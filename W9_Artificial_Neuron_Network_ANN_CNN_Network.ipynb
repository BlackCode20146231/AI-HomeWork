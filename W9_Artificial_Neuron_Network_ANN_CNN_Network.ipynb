{
  "nbformat": 4,
  "nbformat_minor": 0,
  "metadata": {
    "colab": {
      "provenance": [],
      "authorship_tag": "ABX9TyNeznLEV/FB9yvKAdZ4k2Fr",
      "include_colab_link": true
    },
    "kernelspec": {
      "name": "python3",
      "display_name": "Python 3"
    },
    "language_info": {
      "name": "python"
    }
  },
  "cells": [
    {
      "cell_type": "markdown",
      "metadata": {
        "id": "view-in-github",
        "colab_type": "text"
      },
      "source": [
        "<a href=\"https://colab.research.google.com/github/blowmeaway1234/Artificial-Intelligence/blob/main/W9_Artificial_Neuron_Network_ANN_CNN_Network.ipynb\" target=\"_parent\"><img src=\"https://colab.research.google.com/assets/colab-badge.svg\" alt=\"Open In Colab\"/></a>"
      ]
    },
    {
      "cell_type": "markdown",
      "source": [
        "# mnist"
      ],
      "metadata": {
        "id": "chVqlZdXMffY"
      }
    },
    {
      "cell_type": "code",
      "source": [],
      "metadata": {
        "id": "-zlTsEo3QAdm"
      },
      "execution_count": 153,
      "outputs": []
    },
    {
      "cell_type": "markdown",
      "source": [
        "Sequential - Dense(Full connected) - Hidden layer"
      ],
      "metadata": {
        "id": "UfYRnD71M4lS"
      }
    },
    {
      "cell_type": "code",
      "execution_count": 154,
      "metadata": {
        "id": "VnOTj36EL1sg"
      },
      "outputs": [],
      "source": [
        "from keras.datasets import mnist\n",
        "(train_images,train_labels),(test_images,test_labels)=mnist.load_data()\n"
      ]
    },
    {
      "cell_type": "markdown",
      "source": [
        "Check Data train"
      ],
      "metadata": {
        "id": "_VA9xq7HP-OJ"
      }
    },
    {
      "cell_type": "code",
      "source": [
        "\n",
        "train_images.shape\n"
      ],
      "metadata": {
        "colab": {
          "base_uri": "https://localhost:8080/"
        },
        "id": "VJMtRF1ePR8a",
        "outputId": "0ac252d6-a677-4b38-e401-1305adf822a4"
      },
      "execution_count": 155,
      "outputs": [
        {
          "output_type": "execute_result",
          "data": {
            "text/plain": [
              "(60000, 28, 28)"
            ]
          },
          "metadata": {},
          "execution_count": 155
        }
      ]
    },
    {
      "cell_type": "code",
      "source": [
        "train_labels.shape"
      ],
      "metadata": {
        "colab": {
          "base_uri": "https://localhost:8080/"
        },
        "id": "4VxYAEdnPsOf",
        "outputId": "3e7de631-5fb6-4da2-f339-ae2fd6870a2b"
      },
      "execution_count": 156,
      "outputs": [
        {
          "output_type": "execute_result",
          "data": {
            "text/plain": [
              "(60000,)"
            ]
          },
          "metadata": {},
          "execution_count": 156
        }
      ]
    },
    {
      "cell_type": "code",
      "source": [
        "test_images.shape"
      ],
      "metadata": {
        "colab": {
          "base_uri": "https://localhost:8080/"
        },
        "id": "JHY0JA_lP0Mh",
        "outputId": "82a3ee52-e44f-41b7-de3e-b4f60e85070b"
      },
      "execution_count": 157,
      "outputs": [
        {
          "output_type": "execute_result",
          "data": {
            "text/plain": [
              "(10000, 28, 28)"
            ]
          },
          "metadata": {},
          "execution_count": 157
        }
      ]
    },
    {
      "cell_type": "code",
      "source": [
        "test_labels.shape"
      ],
      "metadata": {
        "colab": {
          "base_uri": "https://localhost:8080/"
        },
        "id": "x4w7WiKYP0RD",
        "outputId": "019602b4-7bf2-4807-e751-97ccba32a5e6"
      },
      "execution_count": 158,
      "outputs": [
        {
          "output_type": "execute_result",
          "data": {
            "text/plain": [
              "(10000,)"
            ]
          },
          "metadata": {},
          "execution_count": 158
        }
      ]
    },
    {
      "cell_type": "markdown",
      "source": [],
      "metadata": {
        "id": "YRB28sgfMhw0"
      }
    },
    {
      "cell_type": "code",
      "source": [
        "import matplotlib.pyplot as plt\n",
        "digit = train_images[5]\n",
        "plt.imshow(digit,cmap=plt.cm.binary)\n",
        "plt.show()\n",
        "print('Number',train_labels[5])"
      ],
      "metadata": {
        "colab": {
          "base_uri": "https://localhost:8080/",
          "height": 447
        },
        "id": "w9P1xNGBQCel",
        "outputId": "38fa8597-58ee-4be4-e332-821cbf601fe7"
      },
      "execution_count": 159,
      "outputs": [
        {
          "output_type": "display_data",
          "data": {
            "text/plain": [
              "<Figure size 640x480 with 1 Axes>"
            ],
            "image/png": "[encoded data removed]"
          },
          "metadata": {}
        },
        {
          "output_type": "stream",
          "name": "stdout",
          "text": [
            "Number 2\n"
          ]
        }
      ]
    },
    {
      "cell_type": "code",
      "source": [
        "for i in range(10):\n",
        "  plt.subplot(3,5,i+1)\n",
        "  plt.tight_layout()\n",
        "  plt.imshow((train_images[i]),cmap='gray',\n",
        "             interpolation='None')\n",
        "  plt.title('Number:{}'.format(train_labels[i]))\n",
        "  plt.xticks([])\n",
        "  plt.yticks([])"
      ],
      "metadata": {
        "colab": {
          "base_uri": "https://localhost:8080/",
          "height": 298
        },
        "id": "U4Uvu1wRRgD9",
        "outputId": "23b581b0-394f-414c-8bd5-d75f3918d604"
      },
      "execution_count": 160,
      "outputs": [
        {
          "output_type": "display_data",
          "data": {
            "text/plain": [
              "<Figure size 640x480 with 10 Axes>"
            ],
            "image/png": "[encoded data removed]"
          },
          "metadata": {}
        }
      ]
    },
    {
      "cell_type": "markdown",
      "source": [
        "Neuron Configuration"
      ],
      "metadata": {
        "id": "e20wEqlkWSF7"
      }
    },
    {
      "cell_type": "code",
      "source": [
        "from keras.models import Sequential\n",
        "from keras.layers import Dense\n",
        "\n",
        "model = Sequential()\n",
        "model.add(Dense(512, activation='relu', input_shape = (28*28,)))\n",
        "model.add(Dense(10,activation = 'softmax'))\n",
        "model.summary()"
      ],
      "metadata": {
        "colab": {
          "base_uri": "https://localhost:8080/"
        },
        "id": "88kAJLcoT_XY",
        "outputId": "4e50fc88-1e46-4da8-b44c-5f7973903379"
      },
      "execution_count": 161,
      "outputs": [
        {
          "output_type": "stream",
          "name": "stdout",
          "text": [
            "Model: \"sequential_9\"\n",
            "_________________________________________________________________\n",
            " Layer (type)                Output Shape              Param #   \n",
            "=================================================================\n",
            " dense_10 (Dense)            (None, 512)               401920    \n",
            "                                                                 \n",
            " dense_11 (Dense)            (None, 10)                5130      \n",
            "                                                                 \n",
            "=================================================================\n",
            "Total params: 407,050\n",
            "Trainable params: 407,050\n",
            "Non-trainable params: 0\n",
            "_________________________________________________________________\n"
          ]
        }
      ]
    },
    {
      "cell_type": "markdown",
      "source": [
        "Save variable"
      ],
      "metadata": {
        "id": "-flNkU-AZAeA"
      }
    },
    {
      "cell_type": "code",
      "source": [
        "x= test_images\n",
        "y= test_labels"
      ],
      "metadata": {
        "id": "D8ZVpLgoWI3R"
      },
      "execution_count": 162,
      "outputs": []
    },
    {
      "cell_type": "code",
      "source": [
        "train_images=train_images.reshape(60000,28*28)\n",
        "train_images=train_images.astype('float32')/255\n",
        "test_images=test_images.reshape(10000,28*28)\n",
        "test_images=test_images.astype('float32')/255"
      ],
      "metadata": {
        "id": "Ss8FLi-2WXlF"
      },
      "execution_count": 163,
      "outputs": []
    },
    {
      "cell_type": "code",
      "source": [
        "train_images.shape"
      ],
      "metadata": {
        "colab": {
          "base_uri": "https://localhost:8080/"
        },
        "id": "MCraIasiYBfq",
        "outputId": "f66117ab-2a0d-4700-e424-573ae32d57f0"
      },
      "execution_count": 164,
      "outputs": [
        {
          "output_type": "execute_result",
          "data": {
            "text/plain": [
              "(60000, 784)"
            ]
          },
          "metadata": {},
          "execution_count": 164
        }
      ]
    },
    {
      "cell_type": "code",
      "source": [
        "test_images.shape"
      ],
      "metadata": {
        "colab": {
          "base_uri": "https://localhost:8080/"
        },
        "id": "OnV-AbprYFEA",
        "outputId": "a363caa7-0c4c-4c98-e624-b651469762b0"
      },
      "execution_count": 165,
      "outputs": [
        {
          "output_type": "execute_result",
          "data": {
            "text/plain": [
              "(10000, 784)"
            ]
          },
          "metadata": {},
          "execution_count": 165
        }
      ]
    },
    {
      "cell_type": "code",
      "source": [
        "from keras.utils import to_categorical\n",
        "train_labels=to_categorical(train_labels,10)\n",
        "test_labels=to_categorical(test_labels,10)"
      ],
      "metadata": {
        "id": "DZXwbeT0YJrB"
      },
      "execution_count": 166,
      "outputs": []
    },
    {
      "cell_type": "code",
      "source": [
        "train_labels.shape"
      ],
      "metadata": {
        "colab": {
          "base_uri": "https://localhost:8080/"
        },
        "id": "VA6IaJmFYkaG",
        "outputId": "b753dc43-ba57-4fe9-9ab4-9d7797c40821"
      },
      "execution_count": 167,
      "outputs": [
        {
          "output_type": "execute_result",
          "data": {
            "text/plain": [
              "(60000, 10)"
            ]
          },
          "metadata": {},
          "execution_count": 167
        }
      ]
    },
    {
      "cell_type": "code",
      "source": [
        "test_labels.shape"
      ],
      "metadata": {
        "colab": {
          "base_uri": "https://localhost:8080/"
        },
        "id": "6KKPvedWYwrV",
        "outputId": "c600c340-9635-4770-8fdf-6056c908540b"
      },
      "execution_count": 168,
      "outputs": [
        {
          "output_type": "execute_result",
          "data": {
            "text/plain": [
              "(10000, 10)"
            ]
          },
          "metadata": {},
          "execution_count": 168
        }
      ]
    },
    {
      "cell_type": "markdown",
      "source": [
        "    Quy trình làm AI\n",
        "\n",
        "    1.Data -> xử lí dữ liệu ...\n",
        "    2.Model-> ANN \n",
        "    3.compile\n",
        "    4.Train\n",
        "    5.Evolution"
      ],
      "metadata": {
        "id": "YFSi3XSdZEjC"
      }
    },
    {
      "cell_type": "code",
      "source": [
        "model.compile(optimizer='rmsprop',loss='categorical_crossentropy',metrics=['accuracy'])\n",
        "model.fit(train_images,train_labels,epochs=10,batch_size=128)\n",
        "test_loss,test_acc = model.evaluate(test_images,test_labels)\n",
        "print('Mất mát:',test_loss)\n",
        "print('Accuracy:',test_acc)"
      ],
      "metadata": {
        "colab": {
          "base_uri": "https://localhost:8080/"
        },
        "id": "H04iYejGZVlO",
        "outputId": "dfbf167f-5962-4aa7-eddf-ece4b0b4efbb"
      },
      "execution_count": 169,
      "outputs": [
        {
          "output_type": "stream",
          "name": "stdout",
          "text": [
            "Epoch 1/10\n",
            "469/469 [==============================] - 6s 13ms/step - loss: 0.2632 - accuracy: 0.9241\n",
            "Epoch 2/10\n",
            "469/469 [==============================] - 5s 10ms/step - loss: 0.1074 - accuracy: 0.9686\n",
            "Epoch 3/10\n",
            "469/469 [==============================] - 5s 11ms/step - loss: 0.0695 - accuracy: 0.9789\n",
            "Epoch 4/10\n",
            "469/469 [==============================] - 5s 11ms/step - loss: 0.0509 - accuracy: 0.9848\n",
            "Epoch 5/10\n",
            "469/469 [==============================] - 5s 10ms/step - loss: 0.0384 - accuracy: 0.9883\n",
            "Epoch 6/10\n",
            "469/469 [==============================] - 6s 13ms/step - loss: 0.0287 - accuracy: 0.9919\n",
            "Epoch 7/10\n",
            "469/469 [==============================] - 6s 13ms/step - loss: 0.0212 - accuracy: 0.9943\n",
            "Epoch 8/10\n",
            "469/469 [==============================] - 6s 13ms/step - loss: 0.0163 - accuracy: 0.9954\n",
            "Epoch 9/10\n",
            "469/469 [==============================] - 5s 11ms/step - loss: 0.0128 - accuracy: 0.9965\n",
            "Epoch 10/10\n",
            "469/469 [==============================] - 5s 11ms/step - loss: 0.0090 - accuracy: 0.9980\n",
            "313/313 [==============================] - 2s 4ms/step - loss: 0.0581 - accuracy: 0.9829\n",
            "Mất mát: 0.0581253245472908\n",
            "Accuracy: 0.9829000234603882\n"
          ]
        }
      ]
    },
    {
      "cell_type": "code",
      "source": [
        "import matplotlib.pyplot as plt\n",
        "digit = x[100]\n",
        "plt.imshow(digit,cmap=plt.cm.binary)\n",
        "plt.show()\n",
        "print('Number',y[100])"
      ],
      "metadata": {
        "colab": {
          "base_uri": "https://localhost:8080/",
          "height": 447
        },
        "id": "vZGUWzOscrhV",
        "outputId": "0d1cebb7-9803-42ce-db9b-1d063cf1beab"
      },
      "execution_count": 170,
      "outputs": [
        {
          "output_type": "display_data",
          "data": {
            "text/plain": [
              "<Figure size 640x480 with 1 Axes>"
            ],
            "image/png": "[encoded data removed]"
          },
          "metadata": {}
        },
        {
          "output_type": "stream",
          "name": "stdout",
          "text": [
            "Number 6\n"
          ]
        }
      ]
    },
    {
      "cell_type": "code",
      "source": [
        "x_pred=x[100].reshape(1,28*28)\n",
        "x_pred=x_pred.astype('float32')/255\n",
        "y_pred=model.predict(x_pred)\n",
        "print(y_pred)"
      ],
      "metadata": {
        "colab": {
          "base_uri": "https://localhost:8080/"
        },
        "id": "3vyWnTpVdYnC",
        "outputId": "650d6454-526c-4e55-b732-77904eeb3bdd"
      },
      "execution_count": 191,
      "outputs": [
        {
          "output_type": "stream",
          "name": "stdout",
          "text": [
            "1/1 [==============================] - 0s 23ms/step\n",
            "[[3.6455438e-06 1.1197502e-08 3.2802200e-07 1.3387515e-10 2.9695691e-08\n",
            "  1.8666366e-07 9.9999440e-01 1.2053676e-08 1.3053171e-06 1.1079608e-09]]\n"
          ]
        }
      ]
    },
    {
      "cell_type": "code",
      "source": [
        "import numpy as np\n",
        "np.argmax(model.predict(x_pred),axis=1)"
      ],
      "metadata": {
        "colab": {
          "base_uri": "https://localhost:8080/"
        },
        "id": "szYkXmUPgt7_",
        "outputId": "cdd38186-200b-4bbb-e67e-7d630b66626e"
      },
      "execution_count": 192,
      "outputs": [
        {
          "output_type": "stream",
          "name": "stdout",
          "text": [
            "1/1 [==============================] - 0s 40ms/step\n"
          ]
        },
        {
          "output_type": "execute_result",
          "data": {
            "text/plain": [
              "array([6])"
            ]
          },
          "metadata": {},
          "execution_count": 192
        }
      ]
    }
  ]
}