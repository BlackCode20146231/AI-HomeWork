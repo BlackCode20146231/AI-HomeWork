{
  "nbformat": 4,
  "nbformat_minor": 0,
  "metadata": {
    "colab": {
      "provenance": [],
      "gpuType": "T4",
      "include_colab_link": true
    },
    "kernelspec": {
      "name": "python3",
      "display_name": "Python 3"
    },
    "language_info": {
      "name": "python"
    },
    "accelerator": "GPU",
    "gpuClass": "standard"
  },
  "cells": [
    {
      "cell_type": "markdown",
      "metadata": {
        "id": "view-in-github",
        "colab_type": "text"
      },
      "source": [
        "<a href=\"https://colab.research.google.com/github/blowmeaway1234/Artificial-Intelligence/blob/main/Midterm_Recognition_Class_Member_build_with_ANN_model.ipynb\" target=\"_parent\"><img src=\"https://colab.research.google.com/assets/colab-badge.svg\" alt=\"Open In Colab\"/></a>"
      ]
    },
    {
      "cell_type": "code",
      "source": [
        "from google.colab import drive\n",
        "drive.mount('/content/gdrive')"
      ],
      "metadata": {
        "colab": {
          "base_uri": "https://localhost:8080/"
        },
        "id": "8TaHFOHO7xdI",
        "outputId": "a993f830-4f7f-4656-ebb7-d4d2db391835"
      },
      "execution_count": 10,
      "outputs": [
        {
          "output_type": "stream",
          "name": "stdout",
          "text": [
            "Drive already mounted at /content/gdrive; to attempt to forcibly remount, call drive.mount(\"/content/gdrive\", force_remount=True).\n"
          ]
        }
      ]
    },
    {
      "cell_type": "markdown",
      "source": [
        "# Load dataset Class Member "
      ],
      "metadata": {
        "id": "Ro_tpJC7vb6b"
      }
    },
    {
      "cell_type": "code",
      "source": [
        "!ls gdrive/MyDrive/DataSetMember # test data "
      ],
      "metadata": {
        "id": "8N4qcbWqvboo",
        "colab": {
          "base_uri": "https://localhost:8080/"
        },
        "outputId": "505a1da8-a685-4555-872a-6de37dda1c13"
      },
      "execution_count": 248,
      "outputs": [
        {
          "output_type": "stream",
          "name": "stdout",
          "text": [
            "testing.zip  trainingSet.zip\n"
          ]
        }
      ]
    },
    {
      "cell_type": "code",
      "source": [
        "# Unzip Test and Train data\n",
        "! unzip gdrive/MyDrive/DataSetMember/testing.zip\n",
        "! unzip gdrive/MyDrive/DataSetMember/trainingSet.zip"
      ],
      "metadata": {
        "id": "yl7996ELvoFN"
      },
      "execution_count": null,
      "outputs": []
    },
    {
      "cell_type": "code",
      "source": [
        "# Check traindata\n",
        "for i in range(10): # lệnh !ls không hiểu python nên ko dùng '{}'.format i\n",
        "    !ls trainingSet/{i}| wc -l"
      ],
      "metadata": {
        "id": "a3tkTVF2vrUm"
      },
      "execution_count": null,
      "outputs": []
    },
    {
      "cell_type": "code",
      "source": [
        "# Check testdata\n",
        "!ls testing/| wc -l"
      ],
      "metadata": {
        "id": "27gm55OLvs47",
        "colab": {
          "base_uri": "https://localhost:8080/"
        },
        "outputId": "6695e4e0-4d09-4c5b-d189-d2325ba4825d"
      },
      "execution_count": 251,
      "outputs": [
        {
          "output_type": "stream",
          "name": "stdout",
          "text": [
            "80\n"
          ]
        }
      ]
    },
    {
      "cell_type": "code",
      "source": [
        "!ls trainingSet/| wc -l"
      ],
      "metadata": {
        "id": "d6Fi00N0vuB2",
        "colab": {
          "base_uri": "https://localhost:8080/"
        },
        "outputId": "97a5746f-3f2c-41e4-f811-0280e4f6ed75"
      },
      "execution_count": 252,
      "outputs": [
        {
          "output_type": "stream",
          "name": "stdout",
          "text": [
            "10\n"
          ]
        }
      ]
    },
    {
      "cell_type": "markdown",
      "source": [
        "# Preprocessing Data"
      ],
      "metadata": {
        "id": "oGZoB9U3vwAQ"
      }
    },
    {
      "cell_type": "code",
      "source": [
        "import tensorflow as tf\n",
        "from pathlib import Path"
      ],
      "metadata": {
        "id": "ewie4xKAvwyw"
      },
      "execution_count": 253,
      "outputs": []
    },
    {
      "cell_type": "code",
      "source": [
        "train_root = Path('trainingSet/')\n",
        "testing_root=Path('testing/')\n",
        "# convert to string type\n",
        "filelist_ds= tf.data.Dataset.list_files(str(train_root/'*/*')) # 2 level scan (train_root to folders 0 - 9 then access each one)\n",
        "test_list = tf.data.Dataset.list_files(str(testing_root/'*'))\n",
        "# 9 random elements\n",
        "for file in filelist_ds.take(8):\n",
        "  print(file) #filename path in tf.data\n",
        "for file in test_list.take(8):\n",
        "  print(file) #filename path in tf.data"
      ],
      "metadata": {
        "id": "jlUsXxNivw4Q",
        "colab": {
          "base_uri": "https://localhost:8080/"
        },
        "outputId": "3ca12723-14f3-495e-918c-57749b721dcc"
      },
      "execution_count": 254,
      "outputs": [
        {
          "output_type": "stream",
          "name": "stdout",
          "text": [
            "tf.Tensor(b'trainingSet/3/Long (7).jpg', shape=(), dtype=string)\n",
            "tf.Tensor(b'trainingSet/9/Danh (56).jpg', shape=(), dtype=string)\n",
            "tf.Tensor(b'trainingSet/1/Khiet (54).jpg', shape=(), dtype=string)\n",
            "tf.Tensor(b'trainingSet/0/Hy (3).jpg', shape=(), dtype=string)\n",
            "tf.Tensor(b'trainingSet/3/Long (37).jpg', shape=(), dtype=string)\n",
            "tf.Tensor(b'trainingSet/8/Dien (20).jpg', shape=(), dtype=string)\n",
            "tf.Tensor(b'trainingSet/0/Hy (35).jpg', shape=(), dtype=string)\n",
            "tf.Tensor(b'trainingSet/7/Truc (3).jpg', shape=(), dtype=string)\n",
            "tf.Tensor(b'testing/Truc (1).jpg', shape=(), dtype=string)\n",
            "tf.Tensor(b'testing/Long (2).jpg', shape=(), dtype=string)\n",
            "tf.Tensor(b'testing/Long (11).jpg', shape=(), dtype=string)\n",
            "tf.Tensor(b'testing/Hy (25).jpg', shape=(), dtype=string)\n",
            "tf.Tensor(b'testing/Hy (52).jpg', shape=(), dtype=string)\n",
            "tf.Tensor(b'testing/Hy (57).jpg', shape=(), dtype=string)\n",
            "tf.Tensor(b'testing/Truc (12).jpg', shape=(), dtype=string)\n",
            "tf.Tensor(b'testing/Minh (28).jpg', shape=(), dtype=string)\n"
          ]
        }
      ]
    },
    {
      "cell_type": "code",
      "source": [
        "def get_label(file_path):\n",
        "  parts = tf.strings.split(file_path, '/')\n",
        "  #part[0] = train\n",
        "  #part[1] = 0/1.../9\n",
        "  #part[2] = filename\n",
        "  if parts[-2] == \"0\":\n",
        "    labels=[1,0,0,0,0,0,0,0,0,0]\n",
        "  elif parts[-2] == \"1\":\n",
        "    labels=[0,1,0,0,0,0,0,0,0,0]\n",
        "  elif parts[-2] == \"2\":\n",
        "    labels=[0,0,1,0,0,0,0,0,0,0]\n",
        "  elif parts[-2] == \"3\":\n",
        "    labels=[0,0,0,1,0,0,0,0,0,0]\n",
        "  elif parts[-2] == \"4\":\n",
        "    labels=[0,0,0,0,1,0,0,0,0,0]\n",
        "  elif parts[-2] == \"5\":\n",
        "    labels=[0,0,0,0,0,1,0,0,0,0]\n",
        "  elif parts[-2] == \"6\":\n",
        "    labels=[0,0,0,0,0,0,1,0,0,0]\n",
        "  elif parts[-2] == \"7\":\n",
        "    labels=[0,0,0,0,0,0,0,1,0,0]\n",
        "  elif parts[-2] == \"8\":\n",
        "    labels=[0,0,0,0,0,0,0,0,1,0]\n",
        "  else:\n",
        "    labels=[0,0,0,0,0,0,0,0,0,1]\n",
        "    #return labels value but have to convert to tensor becase string we use is python not tf.tensor\n",
        "  return tf.convert_to_tensor(labels) \n",
        "# Test\n",
        "for file in filelist_ds.take(8):\n",
        "  print('filename',file.numpy().decode('utf-8')) # utf8 bỏ tf.tensor\n",
        "  print('label:',get_label(file).numpy())"
      ],
      "metadata": {
        "id": "VXcwf2rYv5j0",
        "colab": {
          "base_uri": "https://localhost:8080/"
        },
        "outputId": "b08b0716-50e7-4e56-f040-d8bbf6061dea"
      },
      "execution_count": 255,
      "outputs": [
        {
          "output_type": "stream",
          "name": "stdout",
          "text": [
            "filename trainingSet/2/Kiet (52).jpg\n",
            "label: [0 0 1 0 0 0 0 0 0 0]\n",
            "filename trainingSet/0/Hy (1).jpg\n",
            "label: [1 0 0 0 0 0 0 0 0 0]\n",
            "filename trainingSet/5/Tan (11).jpg\n",
            "label: [0 0 0 0 0 1 0 0 0 0]\n",
            "filename trainingSet/6/Thang (56).jpg\n",
            "label: [0 0 0 0 0 0 1 0 0 0]\n",
            "filename trainingSet/4/Minh (28).jpg\n",
            "label: [0 0 0 0 1 0 0 0 0 0]\n",
            "filename trainingSet/3/Long (41).jpg\n",
            "label: [0 0 0 1 0 0 0 0 0 0]\n",
            "filename trainingSet/8/Dien (37).jpg\n",
            "label: [0 0 0 0 0 0 0 0 1 0]\n",
            "filename trainingSet/0/Hy (10).jpg\n",
            "label: [1 0 0 0 0 0 0 0 0 0]\n"
          ]
        }
      ]
    },
    {
      "cell_type": "code",
      "source": [
        "from tensorflow._api.v2 import image\n",
        "# Preprocessing function\n",
        "img_height = 30\n",
        "img_width = 40\n",
        "def preprocessing(file_path): #data we have just a file list but data for train model must be pixel value\n",
        "  # Read file\n",
        "  img = tf.io.read_file(file_path)\n",
        "  img = tf.image.decode_jpeg(img,channels=3) # 1 is gray, 3 is color; we use image function of tf.image ; jpeg because jpg is our flie\n",
        "  # Transform\n",
        "    # Conver from uint 8 to float 32 and Normalize value to [0,1]\n",
        "  img = tf.image.convert_image_dtype(img,tf.float32)\n",
        "    # Resize\n",
        "  img = tf.image.resize(img,[img_width,img_height])\n",
        "    # Get image label\n",
        "  label = get_label(file_path)\n",
        "  # Return\n",
        "  print(img.shape)\n",
        "  return img, label"
      ],
      "metadata": {
        "id": "r7wsLMzAJmK0"
      },
      "execution_count": 256,
      "outputs": []
    },
    {
      "cell_type": "markdown",
      "source": [
        "# Build Model"
      ],
      "metadata": {
        "id": "pEtobsn6w5Be"
      }
    },
    {
      "cell_type": "code",
      "source": [
        "import tensorflow as tf\n",
        "from tensorflow.keras import layers\n",
        "#build model\n",
        "model = tf.keras.Sequential()\n",
        "inputs = tf.keras.Input(shape=(img_width,img_height,3))\n",
        "x = layers.Conv2D(10,5,strides=(1,1),padding = 'valid',activation='relu')(inputs)\n",
        "x = layers.MaxPool2D(pool_size=(2,2),strides=2)(x)\n",
        "x = layers.Conv2D(20,5,strides=(1,1),padding='valid',activation='relu')(x)\n",
        "x = layers.MaxPool2D(pool_size=(2,2),strides=2)(x)\n",
        "x = layers.Dropout(0.25)(x)\n",
        "x = layers.Flatten()(x)\n",
        "x = layers.Dense(100,activation='relu')(x)\n",
        "output = layers.Dense(10, activation ='softmax')(x)\n",
        "\n",
        "model = tf.keras.Model(inputs=inputs,outputs=output)\n",
        "model.summary()"
      ],
      "metadata": {
        "colab": {
          "base_uri": "https://localhost:8080/"
        },
        "id": "U-tmLmrSBRX6",
        "outputId": "fe99764a-107f-4a5e-c087-9648dfcbf182"
      },
      "execution_count": 257,
      "outputs": [
        {
          "output_type": "stream",
          "name": "stdout",
          "text": [
            "Model: \"model_25\"\n",
            "_________________________________________________________________\n",
            " Layer (type)                Output Shape              Param #   \n",
            "=================================================================\n",
            " input_39 (InputLayer)       [(None, 40, 30, 3)]       0         \n",
            "                                                                 \n",
            " conv2d_48 (Conv2D)          (None, 36, 26, 10)        760       \n",
            "                                                                 \n",
            " max_pooling2d_46 (MaxPoolin  (None, 18, 13, 10)       0         \n",
            " g2D)                                                            \n",
            "                                                                 \n",
            " conv2d_49 (Conv2D)          (None, 14, 9, 20)         5020      \n",
            "                                                                 \n",
            " max_pooling2d_47 (MaxPoolin  (None, 7, 4, 20)         0         \n",
            " g2D)                                                            \n",
            "                                                                 \n",
            " dropout_23 (Dropout)        (None, 7, 4, 20)          0         \n",
            "                                                                 \n",
            " flatten_23 (Flatten)        (None, 560)               0         \n",
            "                                                                 \n",
            " dense_48 (Dense)            (None, 100)               56100     \n",
            "                                                                 \n",
            " dense_49 (Dense)            (None, 10)                1010      \n",
            "                                                                 \n",
            "=================================================================\n",
            "Total params: 62,890\n",
            "Trainable params: 62,890\n",
            "Non-trainable params: 0\n",
            "_________________________________________________________________\n"
          ]
        }
      ]
    },
    {
      "cell_type": "code",
      "source": [
        "ds_size = 25000 #(shuffle size) \n",
        "# Set parameter\n",
        "batch_size = 16\n",
        "# Build data\n",
        "train_ds = filelist_ds.shuffle(ds_size) # Shuffling the input and it doesn't have labels\n",
        "train_ds = train_ds.map(preprocessing,num_parallel_calls=tf.data.AUTOTUNE) # Process each element + get labels => train_ds = pixel val and labels\n",
        "train_ds = train_ds.batch(batch_size)\n",
        "train_ds = train_ds.prefetch(8) # chia luồn data"
      ],
      "metadata": {
        "colab": {
          "base_uri": "https://localhost:8080/"
        },
        "id": "08FvFMsPOBcc",
        "outputId": "32d75699-9fa0-4b17-e19f-ac13e5875d58"
      },
      "execution_count": 258,
      "outputs": [
        {
          "output_type": "stream",
          "name": "stdout",
          "text": [
            "(40, 30, 3)\n"
          ]
        }
      ]
    },
    {
      "cell_type": "markdown",
      "source": [
        "# Compile and training model"
      ],
      "metadata": {
        "id": "zd66ONcuw7yM"
      }
    },
    {
      "cell_type": "code",
      "source": [
        "# Compile model\n",
        "model.compile(\n",
        "    optimizer = 'adam',\n",
        "    loss = 'categorical_crossentropy',\n",
        "    metrics=[\"accuracy\"] #caculate accuracy on each batch\n",
        ")"
      ],
      "metadata": {
        "id": "Q3OahRTfwIip"
      },
      "execution_count": 259,
      "outputs": []
    },
    {
      "cell_type": "code",
      "source": [
        "# Train model\n",
        "model.fit(train_ds, epochs = 10)"
      ],
      "metadata": {
        "id": "YesYSUHdwKJK",
        "colab": {
          "base_uri": "https://localhost:8080/"
        },
        "outputId": "dc4667c7-2d39-40ec-89f7-1df47454fb2c"
      },
      "execution_count": 260,
      "outputs": [
        {
          "output_type": "stream",
          "name": "stdout",
          "text": [
            "Epoch 1/10\n",
            "38/38 [==============================] - 2s 9ms/step - loss: 1.6548 - accuracy: 0.4750\n",
            "Epoch 2/10\n",
            "38/38 [==============================] - 0s 7ms/step - loss: 0.3753 - accuracy: 0.9000\n",
            "Epoch 3/10\n",
            "38/38 [==============================] - 0s 11ms/step - loss: 0.1676 - accuracy: 0.9517\n",
            "Epoch 4/10\n",
            "38/38 [==============================] - 0s 10ms/step - loss: 0.1361 - accuracy: 0.9600\n",
            "Epoch 5/10\n",
            "38/38 [==============================] - 0s 11ms/step - loss: 0.0707 - accuracy: 0.9850\n",
            "Epoch 6/10\n",
            "38/38 [==============================] - 0s 12ms/step - loss: 0.0708 - accuracy: 0.9833\n",
            "Epoch 7/10\n",
            "38/38 [==============================] - 0s 9ms/step - loss: 0.0468 - accuracy: 0.9883\n",
            "Epoch 8/10\n",
            "38/38 [==============================] - 0s 7ms/step - loss: 0.0495 - accuracy: 0.9850\n",
            "Epoch 9/10\n",
            "38/38 [==============================] - 0s 7ms/step - loss: 0.0251 - accuracy: 0.9950\n",
            "Epoch 10/10\n",
            "38/38 [==============================] - 0s 7ms/step - loss: 0.0217 - accuracy: 0.9967\n"
          ]
        },
        {
          "output_type": "execute_result",
          "data": {
            "text/plain": [
              "<keras.callbacks.History at 0x7f12b41c3af0>"
            ]
          },
          "metadata": {},
          "execution_count": 260
        }
      ]
    },
    {
      "cell_type": "code",
      "source": [
        "model.save('ClassMemberANNmodel.h5')"
      ],
      "metadata": {
        "id": "Ci7-gkEFwLVZ"
      },
      "execution_count": 261,
      "outputs": []
    },
    {
      "cell_type": "code",
      "source": [
        "import matplotlib.pyplot as plt\n",
        "from keras.utils import load_img\n",
        "from keras.utils.image_utils import img_to_array\n",
        "import numpy as np\n",
        "\n",
        "name = {0: 'Hy', 1: 'Khiết', 2: 'Kiệt', 3: 'Long', 4: 'Minh', 5: 'Tấn', 6: 'Thắng', 7: 'Trúc', 8: 'Điển', 9: 'Danh'}\n",
        "# Load 10 picture to scan the image\n",
        "for i in range(9):\n",
        "    img = load_img(\"Danh{i}.jpg\".format(i=i), target_size=(40, 30))\n",
        "    plt.imshow(img)\n",
        "    img = img_to_array(img)\n",
        "    img = img.reshape(1, 40, 30, 3)\n",
        "    img = img.astype('float32')\n",
        "    img = img / 255\n",
        "    result = np.argmax(model.predict(img), axis=1)\n",
        "    plt.show()\n",
        "    print(name[result[0]])\n"
      ],
      "metadata": {
        "id": "QquipF2E-3Tn"
      },
      "execution_count": null,
      "outputs": []
    }
  ]
}