{
  "nbformat": 4,
  "nbformat_minor": 0,
  "metadata": {
    "colab": {
      "provenance": [],
      "gpuType": "T4",
      "include_colab_link": true
    },
    "kernelspec": {
      "name": "python3",
      "display_name": "Python 3"
    },
    "language_info": {
      "name": "python"
    },
    "accelerator": "GPU",
    "gpuClass": "standard"
  },
  "cells": [
    {
      "cell_type": "markdown",
      "metadata": {
        "id": "view-in-github",
        "colab_type": "text"
      },
      "source": [
        "<a href=\"https://colab.research.google.com/github/blowmeaway1234/Artificial-Intelligence/blob/main/Midterm_Recognition_Class_Member_build_with_ANN_model.ipynb\" target=\"_parent\"><img src=\"https://colab.research.google.com/assets/colab-badge.svg\" alt=\"Open In Colab\"/></a>"
      ]
    },
    {
      "cell_type": "code",
      "source": [
        "from google.colab import drive\n",
        "drive.mount('/content/gdrive')"
      ],
      "metadata": {
        "colab": {
          "base_uri": "https://localhost:8080/"
        },
        "id": "8TaHFOHO7xdI",
        "outputId": "a993f830-4f7f-4656-ebb7-d4d2db391835"
      },
      "execution_count": 10,
      "outputs": [
        {
          "output_type": "stream",
          "name": "stdout",
          "text": [
            "Drive already mounted at /content/gdrive; to attempt to forcibly remount, call drive.mount(\"/content/gdrive\", force_remount=True).\n"
          ]
        }
      ]
    },
    {
      "cell_type": "markdown",
      "source": [
        "# Load dataset Class Member "
      ],
      "metadata": {
        "id": "Ro_tpJC7vb6b"
      }
    },
    {
      "cell_type": "code",
      "source": [
        "!ls gdrive/MyDrive/DataSetMember # test data "
      ],
      "metadata": {
        "id": "8N4qcbWqvboo",
        "colab": {
          "base_uri": "https://localhost:8080/"
        },
        "outputId": "f372e425-f85b-4c94-860d-f649364d5fee"
      },
      "execution_count": 93,
      "outputs": [
        {
          "output_type": "stream",
          "name": "stdout",
          "text": [
            "testing.zip  trainingSet.zip\n"
          ]
        }
      ]
    },
    {
      "cell_type": "code",
      "source": [
        "# Unzip Test and Train data\n",
        "! unzip gdrive/MyDrive/DataSetMember/testing.zip\n",
        "! unzip gdrive/MyDrive/DataSetMember/trainingSet.zip"
      ],
      "metadata": {
        "id": "yl7996ELvoFN",
        "colab": {
          "base_uri": "https://localhost:8080/"
        },
        "outputId": "affbdc02-a69b-4e72-af9f-f02f937964a9"
      },
      "execution_count": 94,
      "outputs": [
        {
          "output_type": "stream",
          "name": "stdout",
          "text": [
            "Archive:  gdrive/MyDrive/DataSetMember/testing.zip\n",
            "replace testing/Hy (21).jpg? [y]es, [n]o, [A]ll, [N]one, [r]ename: A\n",
            "  inflating: testing/Hy (21).jpg     \n",
            "  inflating: testing/Hy (25).jpg     \n",
            "  inflating: testing/Hy (28).jpg     \n",
            "  inflating: testing/Hy (31).jpg     \n",
            "  inflating: testing/Hy (43).jpg     \n",
            "  inflating: testing/Hy (45).jpg     \n",
            "  inflating: testing/Hy (5).jpg      \n",
            "  inflating: testing/Hy (52).jpg     \n",
            "  inflating: testing/Hy (57).jpg     \n",
            "  inflating: testing/Hy (7).jpg      \n",
            "  inflating: testing/Khiet (1).jpg   \n",
            " extracting: testing/Khiet (28).jpg  \n",
            " extracting: testing/Khiet (33).jpg  \n",
            " extracting: testing/Khiet (37).jpg  \n",
            " extracting: testing/Khiet (39).jpg  \n",
            " extracting: testing/Khiet (41).jpg  \n",
            " extracting: testing/Khiet (43).jpg  \n",
            " extracting: testing/Khiet (51).jpg  \n",
            " extracting: testing/Khiet (53).jpg  \n",
            " extracting: testing/Khiet (57).jpg  \n",
            "  inflating: testing/Kiet (1).jpg    \n",
            "  inflating: testing/Kiet (13).jpg   \n",
            "  inflating: testing/Kiet (20).jpg   \n",
            "  inflating: testing/Kiet (22).jpg   \n",
            "  inflating: testing/Kiet (25).jpg   \n",
            "  inflating: testing/Kiet (31).jpg   \n",
            "  inflating: testing/Kiet (47).jpg   \n",
            "  inflating: testing/Kiet (50).jpg   \n",
            "  inflating: testing/Kiet (52).jpg   \n",
            "  inflating: testing/Kiet (59).jpg   \n",
            "  inflating: testing/Long (1).jpg    \n",
            "  inflating: testing/Long (11).jpg   \n",
            "  inflating: testing/Long (12).jpg   \n",
            "  inflating: testing/Long (2).jpg    \n",
            "  inflating: testing/Long (27).jpg   \n",
            "  inflating: testing/Long (28).jpg   \n",
            "  inflating: testing/Long (29).jpg   \n",
            "  inflating: testing/Long (3).jpg    \n",
            "  inflating: testing/Long (43).jpg   \n",
            "  inflating: testing/Long (46).jpg   \n",
            "  inflating: testing/Minh (1).jpg    \n",
            "  inflating: testing/Minh (10).jpg   \n",
            "  inflating: testing/Minh (11).jpg   \n",
            "  inflating: testing/Minh (2).jpg    \n",
            "  inflating: testing/Minh (28).jpg   \n",
            "  inflating: testing/Minh (29).jpg   \n",
            "  inflating: testing/Minh (43).jpg   \n",
            "  inflating: testing/Minh (45).jpg   \n",
            "  inflating: testing/Minh (57).jpg   \n",
            "  inflating: testing/Minh (59).jpg   \n",
            "  inflating: testing/Tan (1).jpg     \n",
            "  inflating: testing/Tan (10).jpg    \n",
            "  inflating: testing/Tan (19).jpg    \n",
            "  inflating: testing/Tan (29).jpg    \n",
            "  inflating: testing/Tan (38).jpg    \n",
            "  inflating: testing/Tan (4).jpg     \n",
            "  inflating: testing/Tan (45).jpg    \n",
            "  inflating: testing/Tan (51).jpg    \n",
            "  inflating: testing/Tan (54).jpg    \n",
            "  inflating: testing/Tan (58).jpg    \n",
            "  inflating: testing/Thang (1).jpg   \n",
            "  inflating: testing/Thang (10).jpg  \n",
            "  inflating: testing/Thang (11).jpg  \n",
            "  inflating: testing/Thang (19).jpg  \n",
            "  inflating: testing/Thang (28).jpg  \n",
            "  inflating: testing/Thang (29).jpg  \n",
            "  inflating: testing/Thang (30).jpg  \n",
            "  inflating: testing/Thang (42).jpg  \n",
            "  inflating: testing/Thang (44).jpg  \n",
            "  inflating: testing/Thang (60).jpg  \n",
            "  inflating: testing/Truc (1).jpg    \n",
            "  inflating: testing/Truc (11).jpg   \n",
            "  inflating: testing/Truc (12).jpg   \n",
            "  inflating: testing/Truc (2).jpg    \n",
            "  inflating: testing/Truc (20).jpg   \n",
            "  inflating: testing/Truc (26).jpg   \n",
            "  inflating: testing/Truc (27).jpg   \n",
            "  inflating: testing/Truc (44).jpg   \n",
            "  inflating: testing/Truc (53).jpg   \n",
            "  inflating: testing/Truc (58).jpg   \n",
            "Archive:  gdrive/MyDrive/DataSetMember/trainingSet.zip\n",
            "replace trainingSet/0/Hy (1).jpg? [y]es, [n]o, [A]ll, [N]one, [r]ename: A\n",
            "  inflating: trainingSet/0/Hy (1).jpg  \n",
            "  inflating: trainingSet/0/Hy (10).jpg  \n",
            "  inflating: trainingSet/0/Hy (11).jpg  \n",
            "  inflating: trainingSet/0/Hy (12).jpg  \n",
            "  inflating: trainingSet/0/Hy (13).jpg  \n",
            "  inflating: trainingSet/0/Hy (14).jpg  \n",
            "  inflating: trainingSet/0/Hy (15).jpg  \n",
            "  inflating: trainingSet/0/Hy (16).jpg  \n",
            "  inflating: trainingSet/0/Hy (17).jpg  \n",
            "  inflating: trainingSet/0/Hy (18).jpg  \n",
            "  inflating: trainingSet/0/Hy (19).jpg  \n",
            "  inflating: trainingSet/0/Hy (2).jpg  \n",
            "  inflating: trainingSet/0/Hy (20).jpg  \n",
            "  inflating: trainingSet/0/Hy (21).jpg  \n",
            "  inflating: trainingSet/0/Hy (22).jpg  \n",
            "  inflating: trainingSet/0/Hy (23).jpg  \n",
            "  inflating: trainingSet/0/Hy (24).jpg  \n",
            "  inflating: trainingSet/0/Hy (25).jpg  \n",
            "  inflating: trainingSet/0/Hy (26).jpg  \n",
            "  inflating: trainingSet/0/Hy (27).jpg  \n",
            "  inflating: trainingSet/0/Hy (28).jpg  \n",
            "  inflating: trainingSet/0/Hy (29).jpg  \n",
            "  inflating: trainingSet/0/Hy (3).jpg  \n",
            "  inflating: trainingSet/0/Hy (30).jpg  \n",
            "  inflating: trainingSet/0/Hy (31).jpg  \n",
            "  inflating: trainingSet/0/Hy (32).jpg  \n",
            "  inflating: trainingSet/0/Hy (33).jpg  \n",
            "  inflating: trainingSet/0/Hy (34).jpg  \n",
            "  inflating: trainingSet/0/Hy (35).jpg  \n",
            "  inflating: trainingSet/0/Hy (36).jpg  \n",
            "  inflating: trainingSet/0/Hy (37).jpg  \n",
            "  inflating: trainingSet/0/Hy (38).jpg  \n",
            "  inflating: trainingSet/0/Hy (39).jpg  \n",
            "  inflating: trainingSet/0/Hy (4).jpg  \n",
            "  inflating: trainingSet/0/Hy (40).jpg  \n",
            "  inflating: trainingSet/0/Hy (41).jpg  \n",
            "  inflating: trainingSet/0/Hy (42).jpg  \n",
            "  inflating: trainingSet/0/Hy (43).jpg  \n",
            "  inflating: trainingSet/0/Hy (44).jpg  \n",
            "  inflating: trainingSet/0/Hy (45).jpg  \n",
            "  inflating: trainingSet/0/Hy (46).jpg  \n",
            "  inflating: trainingSet/0/Hy (47).jpg  \n",
            "  inflating: trainingSet/0/Hy (48).jpg  \n",
            "  inflating: trainingSet/0/Hy (49).jpg  \n",
            "  inflating: trainingSet/0/Hy (5).jpg  \n",
            "  inflating: trainingSet/0/Hy (50).jpg  \n",
            "  inflating: trainingSet/0/Hy (51).jpg  \n",
            "  inflating: trainingSet/0/Hy (52).jpg  \n",
            "  inflating: trainingSet/0/Hy (53).jpg  \n",
            "  inflating: trainingSet/0/Hy (54).jpg  \n",
            "  inflating: trainingSet/0/Hy (55).jpg  \n",
            "  inflating: trainingSet/0/Hy (56).jpg  \n",
            "  inflating: trainingSet/0/Hy (57).jpg  \n",
            "  inflating: trainingSet/0/Hy (58).jpg  \n",
            "  inflating: trainingSet/0/Hy (59).jpg  \n",
            "  inflating: trainingSet/0/Hy (6).jpg  \n",
            "  inflating: trainingSet/0/Hy (60).jpg  \n",
            "  inflating: trainingSet/0/Hy (7).jpg  \n",
            "  inflating: trainingSet/0/Hy (8).jpg  \n",
            "  inflating: trainingSet/0/Hy (9).jpg  \n",
            "  inflating: trainingSet/1/Khiet (1).jpg  \n",
            " extracting: trainingSet/1/Khiet (10).jpg  \n",
            " extracting: trainingSet/1/Khiet (11).jpg  \n",
            " extracting: trainingSet/1/Khiet (12).jpg  \n",
            " extracting: trainingSet/1/Khiet (13).jpg  \n",
            " extracting: trainingSet/1/Khiet (14).jpg  \n",
            " extracting: trainingSet/1/Khiet (15).jpg  \n",
            " extracting: trainingSet/1/Khiet (16).jpg  \n",
            " extracting: trainingSet/1/Khiet (17).jpg  \n",
            " extracting: trainingSet/1/Khiet (18).jpg  \n",
            " extracting: trainingSet/1/Khiet (19).jpg  \n",
            " extracting: trainingSet/1/Khiet (2).jpg  \n",
            " extracting: trainingSet/1/Khiet (20).jpg  \n",
            " extracting: trainingSet/1/Khiet (21).jpg  \n",
            " extracting: trainingSet/1/Khiet (22).jpg  \n",
            " extracting: trainingSet/1/Khiet (23).jpg  \n",
            " extracting: trainingSet/1/Khiet (24).jpg  \n",
            " extracting: trainingSet/1/Khiet (25).jpg  \n",
            " extracting: trainingSet/1/Khiet (26).jpg  \n",
            " extracting: trainingSet/1/Khiet (27).jpg  \n",
            " extracting: trainingSet/1/Khiet (28).jpg  \n",
            " extracting: trainingSet/1/Khiet (29).jpg  \n",
            " extracting: trainingSet/1/Khiet (3).jpg  \n",
            " extracting: trainingSet/1/Khiet (30).jpg  \n",
            " extracting: trainingSet/1/Khiet (31).jpg  \n",
            " extracting: trainingSet/1/Khiet (32).jpg  \n",
            " extracting: trainingSet/1/Khiet (33).jpg  \n",
            " extracting: trainingSet/1/Khiet (34).jpg  \n",
            " extracting: trainingSet/1/Khiet (35).jpg  \n",
            " extracting: trainingSet/1/Khiet (36).jpg  \n",
            " extracting: trainingSet/1/Khiet (37).jpg  \n",
            " extracting: trainingSet/1/Khiet (38).jpg  \n",
            " extracting: trainingSet/1/Khiet (39).jpg  \n",
            " extracting: trainingSet/1/Khiet (4).jpg  \n",
            " extracting: trainingSet/1/Khiet (40).jpg  \n",
            " extracting: trainingSet/1/Khiet (41).jpg  \n",
            " extracting: trainingSet/1/Khiet (42).jpg  \n",
            " extracting: trainingSet/1/Khiet (43).jpg  \n",
            " extracting: trainingSet/1/Khiet (44).jpg  \n",
            " extracting: trainingSet/1/Khiet (45).jpg  \n",
            " extracting: trainingSet/1/Khiet (46).jpg  \n",
            " extracting: trainingSet/1/Khiet (47).jpg  \n",
            " extracting: trainingSet/1/Khiet (48).jpg  \n",
            " extracting: trainingSet/1/Khiet (49).jpg  \n",
            " extracting: trainingSet/1/Khiet (5).jpg  \n",
            " extracting: trainingSet/1/Khiet (50).jpg  \n",
            " extracting: trainingSet/1/Khiet (51).jpg  \n",
            " extracting: trainingSet/1/Khiet (52).jpg  \n",
            " extracting: trainingSet/1/Khiet (53).jpg  \n",
            " extracting: trainingSet/1/Khiet (54).jpg  \n",
            " extracting: trainingSet/1/Khiet (55).jpg  \n",
            " extracting: trainingSet/1/Khiet (56).jpg  \n",
            " extracting: trainingSet/1/Khiet (57).jpg  \n",
            " extracting: trainingSet/1/Khiet (58).jpg  \n",
            " extracting: trainingSet/1/Khiet (59).jpg  \n",
            " extracting: trainingSet/1/Khiet (6).jpg  \n",
            " extracting: trainingSet/1/Khiet (60).jpg  \n",
            " extracting: trainingSet/1/Khiet (7).jpg  \n",
            " extracting: trainingSet/1/Khiet (8).jpg  \n",
            " extracting: trainingSet/1/Khiet (9).jpg  \n",
            "  inflating: trainingSet/2/Kiet (1).jpg  \n",
            "  inflating: trainingSet/2/Kiet (10).jpg  \n",
            "  inflating: trainingSet/2/Kiet (11).jpg  \n",
            "  inflating: trainingSet/2/Kiet (12).jpg  \n",
            "  inflating: trainingSet/2/Kiet (13).jpg  \n",
            "  inflating: trainingSet/2/Kiet (14).jpg  \n",
            "  inflating: trainingSet/2/Kiet (15).jpg  \n",
            "  inflating: trainingSet/2/Kiet (16).jpg  \n",
            "  inflating: trainingSet/2/Kiet (17).jpg  \n",
            "  inflating: trainingSet/2/Kiet (18).jpg  \n",
            "  inflating: trainingSet/2/Kiet (19).jpg  \n",
            "  inflating: trainingSet/2/Kiet (2).jpg  \n",
            "  inflating: trainingSet/2/Kiet (20).jpg  \n",
            "  inflating: trainingSet/2/Kiet (21).jpg  \n",
            "  inflating: trainingSet/2/Kiet (22).jpg  \n",
            "  inflating: trainingSet/2/Kiet (23).jpg  \n",
            "  inflating: trainingSet/2/Kiet (24).jpg  \n",
            "  inflating: trainingSet/2/Kiet (25).jpg  \n",
            "  inflating: trainingSet/2/Kiet (26).jpg  \n",
            "  inflating: trainingSet/2/Kiet (27).jpg  \n",
            "  inflating: trainingSet/2/Kiet (28).jpg  \n",
            "  inflating: trainingSet/2/Kiet (29).jpg  \n",
            "  inflating: trainingSet/2/Kiet (3).jpg  \n",
            "  inflating: trainingSet/2/Kiet (30).jpg  \n",
            "  inflating: trainingSet/2/Kiet (31).jpg  \n",
            "  inflating: trainingSet/2/Kiet (32).jpg  \n",
            "  inflating: trainingSet/2/Kiet (33).jpg  \n",
            "  inflating: trainingSet/2/Kiet (34).jpg  \n",
            "  inflating: trainingSet/2/Kiet (35).jpg  \n",
            "  inflating: trainingSet/2/Kiet (36).jpg  \n",
            "  inflating: trainingSet/2/Kiet (37).jpg  \n",
            "  inflating: trainingSet/2/Kiet (38).jpg  \n",
            "  inflating: trainingSet/2/Kiet (39).jpg  \n",
            "  inflating: trainingSet/2/Kiet (4).jpg  \n",
            "  inflating: trainingSet/2/Kiet (40).jpg  \n",
            "  inflating: trainingSet/2/Kiet (41).jpg  \n",
            "  inflating: trainingSet/2/Kiet (42).jpg  \n",
            "  inflating: trainingSet/2/Kiet (43).jpg  \n",
            "  inflating: trainingSet/2/Kiet (44).jpg  \n",
            "  inflating: trainingSet/2/Kiet (45).jpg  \n",
            "  inflating: trainingSet/2/Kiet (46).jpg  \n",
            "  inflating: trainingSet/2/Kiet (47).jpg  \n",
            "  inflating: trainingSet/2/Kiet (48).jpg  \n",
            "  inflating: trainingSet/2/Kiet (49).jpg  \n",
            "  inflating: trainingSet/2/Kiet (5).jpg  \n",
            "  inflating: trainingSet/2/Kiet (50).jpg  \n",
            "  inflating: trainingSet/2/Kiet (51).jpg  \n",
            "  inflating: trainingSet/2/Kiet (52).jpg  \n",
            "  inflating: trainingSet/2/Kiet (53).jpg  \n",
            "  inflating: trainingSet/2/Kiet (54).jpg  \n",
            "  inflating: trainingSet/2/Kiet (55).jpg  \n",
            "  inflating: trainingSet/2/Kiet (56).jpg  \n",
            "  inflating: trainingSet/2/Kiet (57).jpg  \n",
            "  inflating: trainingSet/2/Kiet (58).jpg  \n",
            "  inflating: trainingSet/2/Kiet (59).jpg  \n",
            "  inflating: trainingSet/2/Kiet (6).jpg  \n",
            "  inflating: trainingSet/2/Kiet (60).jpg  \n",
            "  inflating: trainingSet/2/Kiet (7).jpg  \n",
            "  inflating: trainingSet/2/Kiet (8).jpg  \n",
            "  inflating: trainingSet/2/Kiet (9).jpg  \n",
            "  inflating: trainingSet/3/Long (1).jpg  \n",
            "  inflating: trainingSet/3/Long (10).jpg  \n",
            "  inflating: trainingSet/3/Long (11).jpg  \n",
            "  inflating: trainingSet/3/Long (12).jpg  \n",
            "  inflating: trainingSet/3/Long (13).jpg  \n",
            "  inflating: trainingSet/3/Long (14).jpg  \n",
            "  inflating: trainingSet/3/Long (15).jpg  \n",
            "  inflating: trainingSet/3/Long (16).jpg  \n",
            "  inflating: trainingSet/3/Long (17).jpg  \n",
            "  inflating: trainingSet/3/Long (18).jpg  \n",
            "  inflating: trainingSet/3/Long (19).jpg  \n",
            "  inflating: trainingSet/3/Long (2).jpg  \n",
            "  inflating: trainingSet/3/Long (20).jpg  \n",
            "  inflating: trainingSet/3/Long (21).jpg  \n",
            "  inflating: trainingSet/3/Long (22).jpg  \n",
            "  inflating: trainingSet/3/Long (23).jpg  \n",
            "  inflating: trainingSet/3/Long (24).jpg  \n",
            "  inflating: trainingSet/3/Long (25).jpg  \n",
            "  inflating: trainingSet/3/Long (26).jpg  \n",
            "  inflating: trainingSet/3/Long (27).jpg  \n",
            "  inflating: trainingSet/3/Long (28).jpg  \n",
            "  inflating: trainingSet/3/Long (29).jpg  \n",
            "  inflating: trainingSet/3/Long (3).jpg  \n",
            "  inflating: trainingSet/3/Long (30).jpg  \n",
            "  inflating: trainingSet/3/Long (31).jpg  \n",
            "  inflating: trainingSet/3/Long (32).jpg  \n",
            "  inflating: trainingSet/3/Long (33).jpg  \n",
            "  inflating: trainingSet/3/Long (34).jpg  \n",
            "  inflating: trainingSet/3/Long (35).jpg  \n",
            "  inflating: trainingSet/3/Long (36).jpg  \n",
            "  inflating: trainingSet/3/Long (37).jpg  \n",
            "  inflating: trainingSet/3/Long (38).jpg  \n",
            "  inflating: trainingSet/3/Long (39).jpg  \n",
            "  inflating: trainingSet/3/Long (4).jpg  \n",
            "  inflating: trainingSet/3/Long (40).jpg  \n",
            "  inflating: trainingSet/3/Long (41).jpg  \n",
            "  inflating: trainingSet/3/Long (42).jpg  \n",
            "  inflating: trainingSet/3/Long (43).jpg  \n",
            "  inflating: trainingSet/3/Long (44).jpg  \n",
            "  inflating: trainingSet/3/Long (45).jpg  \n",
            "  inflating: trainingSet/3/Long (46).jpg  \n",
            "  inflating: trainingSet/3/Long (47).jpg  \n",
            "  inflating: trainingSet/3/Long (48).jpg  \n",
            "  inflating: trainingSet/3/Long (49).jpg  \n",
            "  inflating: trainingSet/3/Long (5).jpg  \n",
            "  inflating: trainingSet/3/Long (50).jpg  \n",
            "  inflating: trainingSet/3/Long (51).jpg  \n",
            "  inflating: trainingSet/3/Long (52).jpg  \n",
            "  inflating: trainingSet/3/Long (53).jpg  \n",
            "  inflating: trainingSet/3/Long (54).jpg  \n",
            "  inflating: trainingSet/3/Long (55).jpg  \n",
            "  inflating: trainingSet/3/Long (56).jpg  \n",
            "  inflating: trainingSet/3/Long (57).jpg  \n",
            "  inflating: trainingSet/3/Long (58).jpg  \n",
            "  inflating: trainingSet/3/Long (59).jpg  \n",
            "  inflating: trainingSet/3/Long (6).jpg  \n",
            "  inflating: trainingSet/3/Long (60).jpg  \n",
            "  inflating: trainingSet/3/Long (7).jpg  \n",
            "  inflating: trainingSet/3/Long (8).jpg  \n",
            "  inflating: trainingSet/3/Long (9).jpg  \n",
            "  inflating: trainingSet/4/Minh (1).jpg  \n",
            "  inflating: trainingSet/4/Minh (10).jpg  \n",
            "  inflating: trainingSet/4/Minh (11).jpg  \n",
            "  inflating: trainingSet/4/Minh (12).jpg  \n",
            "  inflating: trainingSet/4/Minh (13).jpg  \n",
            "  inflating: trainingSet/4/Minh (14).jpg  \n",
            "  inflating: trainingSet/4/Minh (15).jpg  \n",
            "  inflating: trainingSet/4/Minh (16).jpg  \n",
            "  inflating: trainingSet/4/Minh (17).jpg  \n",
            "  inflating: trainingSet/4/Minh (18).jpg  \n",
            "  inflating: trainingSet/4/Minh (19).jpg  \n",
            "  inflating: trainingSet/4/Minh (2).jpg  \n",
            "  inflating: trainingSet/4/Minh (20).jpg  \n",
            "  inflating: trainingSet/4/Minh (21).jpg  \n",
            "  inflating: trainingSet/4/Minh (22).jpg  \n",
            "  inflating: trainingSet/4/Minh (23).jpg  \n",
            "  inflating: trainingSet/4/Minh (24).jpg  \n",
            "  inflating: trainingSet/4/Minh (25).jpg  \n",
            "  inflating: trainingSet/4/Minh (26).jpg  \n",
            "  inflating: trainingSet/4/Minh (27).jpg  \n",
            "  inflating: trainingSet/4/Minh (28).jpg  \n",
            "  inflating: trainingSet/4/Minh (29).jpg  \n",
            "  inflating: trainingSet/4/Minh (3).jpg  \n",
            "  inflating: trainingSet/4/Minh (30).jpg  \n",
            "  inflating: trainingSet/4/Minh (31).jpg  \n",
            "  inflating: trainingSet/4/Minh (32).jpg  \n",
            "  inflating: trainingSet/4/Minh (33).jpg  \n",
            "  inflating: trainingSet/4/Minh (34).jpg  \n",
            "  inflating: trainingSet/4/Minh (35).jpg  \n",
            "  inflating: trainingSet/4/Minh (36).jpg  \n",
            "  inflating: trainingSet/4/Minh (37).jpg  \n",
            "  inflating: trainingSet/4/Minh (38).jpg  \n",
            "  inflating: trainingSet/4/Minh (39).jpg  \n",
            "  inflating: trainingSet/4/Minh (4).jpg  \n",
            "  inflating: trainingSet/4/Minh (40).jpg  \n",
            "  inflating: trainingSet/4/Minh (41).jpg  \n",
            "  inflating: trainingSet/4/Minh (42).jpg  \n",
            "  inflating: trainingSet/4/Minh (43).jpg  \n",
            "  inflating: trainingSet/4/Minh (44).jpg  \n",
            "  inflating: trainingSet/4/Minh (45).jpg  \n",
            "  inflating: trainingSet/4/Minh (46).jpg  \n",
            "  inflating: trainingSet/4/Minh (47).jpg  \n",
            "  inflating: trainingSet/4/Minh (48).jpg  \n",
            "  inflating: trainingSet/4/Minh (49).jpg  \n",
            "  inflating: trainingSet/4/Minh (5).jpg  \n",
            "  inflating: trainingSet/4/Minh (50).jpg  \n",
            "  inflating: trainingSet/4/Minh (51).jpg  \n",
            "  inflating: trainingSet/4/Minh (52).jpg  \n",
            "  inflating: trainingSet/4/Minh (53).jpg  \n",
            "  inflating: trainingSet/4/Minh (54).jpg  \n",
            "  inflating: trainingSet/4/Minh (55).jpg  \n",
            "  inflating: trainingSet/4/Minh (56).jpg  \n",
            "  inflating: trainingSet/4/Minh (57).jpg  \n",
            "  inflating: trainingSet/4/Minh (58).jpg  \n",
            "  inflating: trainingSet/4/Minh (59).jpg  \n",
            "  inflating: trainingSet/4/Minh (6).jpg  \n",
            "  inflating: trainingSet/4/Minh (60).jpg  \n",
            "  inflating: trainingSet/4/Minh (7).jpg  \n",
            "  inflating: trainingSet/4/Minh (8).jpg  \n",
            "  inflating: trainingSet/4/Minh (9).jpg  \n",
            "  inflating: trainingSet/5/Tan (1).jpg  \n",
            "  inflating: trainingSet/5/Tan (10).jpg  \n",
            "  inflating: trainingSet/5/Tan (11).jpg  \n",
            "  inflating: trainingSet/5/Tan (12).jpg  \n",
            "  inflating: trainingSet/5/Tan (13).jpg  \n",
            "  inflating: trainingSet/5/Tan (14).jpg  \n",
            "  inflating: trainingSet/5/Tan (15).jpg  \n",
            "  inflating: trainingSet/5/Tan (16).jpg  \n",
            "  inflating: trainingSet/5/Tan (17).jpg  \n",
            "  inflating: trainingSet/5/Tan (18).jpg  \n",
            "  inflating: trainingSet/5/Tan (19).jpg  \n",
            "  inflating: trainingSet/5/Tan (2).jpg  \n",
            "  inflating: trainingSet/5/Tan (20).jpg  \n",
            "  inflating: trainingSet/5/Tan (21).jpg  \n",
            "  inflating: trainingSet/5/Tan (22).jpg  \n",
            "  inflating: trainingSet/5/Tan (23).jpg  \n",
            "  inflating: trainingSet/5/Tan (24).jpg  \n",
            "  inflating: trainingSet/5/Tan (25).jpg  \n",
            "  inflating: trainingSet/5/Tan (26).jpg  \n",
            "  inflating: trainingSet/5/Tan (27).jpg  \n",
            "  inflating: trainingSet/5/Tan (28).jpg  \n",
            "  inflating: trainingSet/5/Tan (29).jpg  \n",
            "  inflating: trainingSet/5/Tan (3).jpg  \n",
            "  inflating: trainingSet/5/Tan (30).jpg  \n",
            "  inflating: trainingSet/5/Tan (31).jpg  \n",
            "  inflating: trainingSet/5/Tan (32).jpg  \n",
            "  inflating: trainingSet/5/Tan (33).jpg  \n",
            "  inflating: trainingSet/5/Tan (34).jpg  \n",
            "  inflating: trainingSet/5/Tan (35).jpg  \n",
            "  inflating: trainingSet/5/Tan (36).jpg  \n",
            "  inflating: trainingSet/5/Tan (37).jpg  \n",
            "  inflating: trainingSet/5/Tan (38).jpg  \n",
            "  inflating: trainingSet/5/Tan (39).jpg  \n",
            "  inflating: trainingSet/5/Tan (4).jpg  \n",
            "  inflating: trainingSet/5/Tan (40).jpg  \n",
            "  inflating: trainingSet/5/Tan (41).jpg  \n",
            "  inflating: trainingSet/5/Tan (42).jpg  \n",
            "  inflating: trainingSet/5/Tan (43).jpg  \n",
            "  inflating: trainingSet/5/Tan (44).jpg  \n",
            "  inflating: trainingSet/5/Tan (45).jpg  \n",
            "  inflating: trainingSet/5/Tan (46).jpg  \n",
            "  inflating: trainingSet/5/Tan (47).jpg  \n",
            "  inflating: trainingSet/5/Tan (48).jpg  \n",
            "  inflating: trainingSet/5/Tan (49).jpg  \n",
            "  inflating: trainingSet/5/Tan (5).jpg  \n",
            "  inflating: trainingSet/5/Tan (50).jpg  \n",
            "  inflating: trainingSet/5/Tan (51).jpg  \n",
            "  inflating: trainingSet/5/Tan (52).jpg  \n",
            "  inflating: trainingSet/5/Tan (53).jpg  \n",
            "  inflating: trainingSet/5/Tan (54).jpg  \n",
            "  inflating: trainingSet/5/Tan (55).jpg  \n",
            "  inflating: trainingSet/5/Tan (56).jpg  \n",
            "  inflating: trainingSet/5/Tan (57).jpg  \n",
            "  inflating: trainingSet/5/Tan (58).jpg  \n",
            "  inflating: trainingSet/5/Tan (59).jpg  \n",
            "  inflating: trainingSet/5/Tan (6).jpg  \n",
            "  inflating: trainingSet/5/Tan (60).jpg  \n",
            "  inflating: trainingSet/5/Tan (7).jpg  \n",
            "  inflating: trainingSet/5/Tan (8).jpg  \n",
            "  inflating: trainingSet/5/Tan (9).jpg  \n",
            "  inflating: trainingSet/6/Thang (1).jpg  \n",
            "  inflating: trainingSet/6/Thang (10).jpg  \n",
            "  inflating: trainingSet/6/Thang (11).jpg  \n",
            "  inflating: trainingSet/6/Thang (12).jpg  \n",
            "  inflating: trainingSet/6/Thang (13).jpg  \n",
            "  inflating: trainingSet/6/Thang (14).jpg  \n",
            "  inflating: trainingSet/6/Thang (15).jpg  \n",
            "  inflating: trainingSet/6/Thang (16).jpg  \n",
            "  inflating: trainingSet/6/Thang (17).jpg  \n",
            "  inflating: trainingSet/6/Thang (18).jpg  \n",
            "  inflating: trainingSet/6/Thang (19).jpg  \n",
            "  inflating: trainingSet/6/Thang (2).jpg  \n",
            "  inflating: trainingSet/6/Thang (20).jpg  \n",
            "  inflating: trainingSet/6/Thang (21).jpg  \n",
            "  inflating: trainingSet/6/Thang (22).jpg  \n",
            "  inflating: trainingSet/6/Thang (23).jpg  \n",
            "  inflating: trainingSet/6/Thang (24).jpg  \n",
            "  inflating: trainingSet/6/Thang (25).jpg  \n",
            "  inflating: trainingSet/6/Thang (26).jpg  \n",
            "  inflating: trainingSet/6/Thang (27).jpg  \n",
            "  inflating: trainingSet/6/Thang (28).jpg  \n",
            "  inflating: trainingSet/6/Thang (29).jpg  \n",
            "  inflating: trainingSet/6/Thang (3).jpg  \n",
            "  inflating: trainingSet/6/Thang (30).jpg  \n",
            "  inflating: trainingSet/6/Thang (31).jpg  \n",
            "  inflating: trainingSet/6/Thang (32).jpg  \n",
            "  inflating: trainingSet/6/Thang (33).jpg  \n",
            "  inflating: trainingSet/6/Thang (34).jpg  \n",
            "  inflating: trainingSet/6/Thang (35).jpg  \n",
            "  inflating: trainingSet/6/Thang (36).jpg  \n",
            "  inflating: trainingSet/6/Thang (37).jpg  \n",
            "  inflating: trainingSet/6/Thang (38).jpg  \n",
            "  inflating: trainingSet/6/Thang (39).jpg  \n",
            "  inflating: trainingSet/6/Thang (4).jpg  \n",
            "  inflating: trainingSet/6/Thang (40).jpg  \n",
            "  inflating: trainingSet/6/Thang (41).jpg  \n",
            "  inflating: trainingSet/6/Thang (42).jpg  \n",
            "  inflating: trainingSet/6/Thang (43).jpg  \n",
            "  inflating: trainingSet/6/Thang (44).jpg  \n",
            "  inflating: trainingSet/6/Thang (45).jpg  \n",
            "  inflating: trainingSet/6/Thang (46).jpg  \n",
            "  inflating: trainingSet/6/Thang (47).jpg  \n",
            "  inflating: trainingSet/6/Thang (48).jpg  \n",
            "  inflating: trainingSet/6/Thang (49).jpg  \n",
            "  inflating: trainingSet/6/Thang (5).jpg  \n",
            "  inflating: trainingSet/6/Thang (50).jpg  \n",
            "  inflating: trainingSet/6/Thang (51).jpg  \n",
            "  inflating: trainingSet/6/Thang (52).jpg  \n",
            "  inflating: trainingSet/6/Thang (53).jpg  \n",
            "  inflating: trainingSet/6/Thang (54).jpg  \n",
            "  inflating: trainingSet/6/Thang (55).jpg  \n",
            "  inflating: trainingSet/6/Thang (56).jpg  \n",
            "  inflating: trainingSet/6/Thang (57).jpg  \n",
            "  inflating: trainingSet/6/Thang (58).jpg  \n",
            "  inflating: trainingSet/6/Thang (59).jpg  \n",
            "  inflating: trainingSet/6/Thang (6).jpg  \n",
            "  inflating: trainingSet/6/Thang (60).jpg  \n",
            "  inflating: trainingSet/6/Thang (7).jpg  \n",
            "  inflating: trainingSet/6/Thang (8).jpg  \n",
            "  inflating: trainingSet/6/Thang (9).jpg  \n",
            "  inflating: trainingSet/7/Truc (1).jpg  \n",
            "  inflating: trainingSet/7/Truc (10).jpg  \n",
            "  inflating: trainingSet/7/Truc (11).jpg  \n",
            "  inflating: trainingSet/7/Truc (12).jpg  \n",
            "  inflating: trainingSet/7/Truc (13).jpg  \n",
            "  inflating: trainingSet/7/Truc (14).jpg  \n",
            "  inflating: trainingSet/7/Truc (15).jpg  \n",
            "  inflating: trainingSet/7/Truc (16).jpg  \n",
            "  inflating: trainingSet/7/Truc (17).jpg  \n",
            "  inflating: trainingSet/7/Truc (18).jpg  \n",
            "  inflating: trainingSet/7/Truc (19).jpg  \n",
            "  inflating: trainingSet/7/Truc (2).jpg  \n",
            "  inflating: trainingSet/7/Truc (20).jpg  \n",
            "  inflating: trainingSet/7/Truc (21).jpg  \n",
            "  inflating: trainingSet/7/Truc (22).jpg  \n",
            "  inflating: trainingSet/7/Truc (23).jpg  \n",
            "  inflating: trainingSet/7/Truc (24).jpg  \n",
            "  inflating: trainingSet/7/Truc (25).jpg  \n",
            "  inflating: trainingSet/7/Truc (26).jpg  \n",
            "  inflating: trainingSet/7/Truc (27).jpg  \n",
            "  inflating: trainingSet/7/Truc (28).jpg  \n",
            "  inflating: trainingSet/7/Truc (29).jpg  \n",
            "  inflating: trainingSet/7/Truc (3).jpg  \n",
            "  inflating: trainingSet/7/Truc (30).jpg  \n",
            "  inflating: trainingSet/7/Truc (31).jpg  \n",
            "  inflating: trainingSet/7/Truc (32).jpg  \n",
            "  inflating: trainingSet/7/Truc (33).jpg  \n",
            "  inflating: trainingSet/7/Truc (34).jpg  \n",
            "  inflating: trainingSet/7/Truc (35).jpg  \n",
            "  inflating: trainingSet/7/Truc (36).jpg  \n",
            "  inflating: trainingSet/7/Truc (37).jpg  \n",
            "  inflating: trainingSet/7/Truc (38).jpg  \n",
            "  inflating: trainingSet/7/Truc (39).jpg  \n",
            "  inflating: trainingSet/7/Truc (4).jpg  \n",
            "  inflating: trainingSet/7/Truc (40).jpg  \n",
            "  inflating: trainingSet/7/Truc (41).jpg  \n",
            "  inflating: trainingSet/7/Truc (42).jpg  \n",
            "  inflating: trainingSet/7/Truc (43).jpg  \n",
            "  inflating: trainingSet/7/Truc (44).jpg  \n",
            "  inflating: trainingSet/7/Truc (45).jpg  \n",
            "  inflating: trainingSet/7/Truc (46).jpg  \n",
            "  inflating: trainingSet/7/Truc (47).jpg  \n",
            "  inflating: trainingSet/7/Truc (48).jpg  \n",
            "  inflating: trainingSet/7/Truc (49).jpg  \n",
            "  inflating: trainingSet/7/Truc (5).jpg  \n",
            "  inflating: trainingSet/7/Truc (50).jpg  \n",
            "  inflating: trainingSet/7/Truc (51).jpg  \n",
            "  inflating: trainingSet/7/Truc (52).jpg  \n",
            "  inflating: trainingSet/7/Truc (53).jpg  \n",
            "  inflating: trainingSet/7/Truc (54).jpg  \n",
            "  inflating: trainingSet/7/Truc (55).jpg  \n",
            "  inflating: trainingSet/7/Truc (56).jpg  \n",
            "  inflating: trainingSet/7/Truc (57).jpg  \n",
            "  inflating: trainingSet/7/Truc (58).jpg  \n",
            "  inflating: trainingSet/7/Truc (59).jpg  \n",
            "  inflating: trainingSet/7/Truc (6).jpg  \n",
            "  inflating: trainingSet/7/Truc (60).jpg  \n",
            "  inflating: trainingSet/7/Truc (7).jpg  \n",
            "  inflating: trainingSet/7/Truc (8).jpg  \n",
            "  inflating: trainingSet/7/Truc (9).jpg  \n",
            " extracting: trainingSet/8/Dien (1).jpg  \n",
            " extracting: trainingSet/8/Dien (10).jpg  \n",
            " extracting: trainingSet/8/Dien (11).jpg  \n",
            " extracting: trainingSet/8/Dien (12).jpg  \n",
            " extracting: trainingSet/8/Dien (13).jpg  \n",
            " extracting: trainingSet/8/Dien (14).jpg  \n",
            " extracting: trainingSet/8/Dien (15).jpg  \n",
            " extracting: trainingSet/8/Dien (16).jpg  \n",
            " extracting: trainingSet/8/Dien (17).jpg  \n",
            " extracting: trainingSet/8/Dien (18).jpg  \n",
            " extracting: trainingSet/8/Dien (19).jpg  \n",
            " extracting: trainingSet/8/Dien (2).jpg  \n",
            " extracting: trainingSet/8/Dien (20).jpg  \n",
            " extracting: trainingSet/8/Dien (21).jpg  \n",
            " extracting: trainingSet/8/Dien (22).jpg  \n",
            " extracting: trainingSet/8/Dien (23).jpg  \n",
            " extracting: trainingSet/8/Dien (24).jpg  \n",
            " extracting: trainingSet/8/Dien (25).jpg  \n",
            " extracting: trainingSet/8/Dien (26).jpg  \n",
            " extracting: trainingSet/8/Dien (27).jpg  \n",
            " extracting: trainingSet/8/Dien (28).jpg  \n",
            " extracting: trainingSet/8/Dien (29).jpg  \n",
            " extracting: trainingSet/8/Dien (3).jpg  \n",
            " extracting: trainingSet/8/Dien (30).jpg  \n",
            " extracting: trainingSet/8/Dien (31).jpg  \n",
            " extracting: trainingSet/8/Dien (32).jpg  \n",
            " extracting: trainingSet/8/Dien (33).jpg  \n",
            " extracting: trainingSet/8/Dien (34).jpg  \n",
            " extracting: trainingSet/8/Dien (35).jpg  \n",
            " extracting: trainingSet/8/Dien (36).jpg  \n",
            " extracting: trainingSet/8/Dien (37).jpg  \n",
            " extracting: trainingSet/8/Dien (38).jpg  \n",
            " extracting: trainingSet/8/Dien (39).jpg  \n",
            " extracting: trainingSet/8/Dien (4).jpg  \n",
            " extracting: trainingSet/8/Dien (40).jpg  \n",
            " extracting: trainingSet/8/Dien (41).jpg  \n",
            " extracting: trainingSet/8/Dien (42).jpg  \n",
            " extracting: trainingSet/8/Dien (43).jpg  \n",
            " extracting: trainingSet/8/Dien (44).jpg  \n",
            " extracting: trainingSet/8/Dien (45).jpg  \n",
            " extracting: trainingSet/8/Dien (46).jpg  \n",
            " extracting: trainingSet/8/Dien (47).jpg  \n",
            " extracting: trainingSet/8/Dien (48).jpg  \n",
            " extracting: trainingSet/8/Dien (49).jpg  \n",
            " extracting: trainingSet/8/Dien (5).jpg  \n",
            " extracting: trainingSet/8/Dien (50).jpg  \n",
            " extracting: trainingSet/8/Dien (51).jpg  \n",
            " extracting: trainingSet/8/Dien (52).jpg  \n",
            " extracting: trainingSet/8/Dien (53).jpg  \n",
            " extracting: trainingSet/8/Dien (54).jpg  \n",
            " extracting: trainingSet/8/Dien (55).jpg  \n",
            " extracting: trainingSet/8/Dien (56).jpg  \n",
            " extracting: trainingSet/8/Dien (57).jpg  \n",
            " extracting: trainingSet/8/Dien (58).jpg  \n",
            " extracting: trainingSet/8/Dien (59).jpg  \n",
            " extracting: trainingSet/8/Dien (6).jpg  \n",
            " extracting: trainingSet/8/Dien (60).jpg  \n",
            " extracting: trainingSet/8/Dien (7).jpg  \n",
            " extracting: trainingSet/8/Dien (8).jpg  \n",
            " extracting: trainingSet/8/Dien (9).jpg  \n",
            "  inflating: trainingSet/9/Danh (1).jpg  \n",
            "  inflating: trainingSet/9/Danh (10).jpg  \n",
            "  inflating: trainingSet/9/Danh (11).jpg  \n",
            "  inflating: trainingSet/9/Danh (12).jpg  \n",
            "  inflating: trainingSet/9/Danh (13).jpg  \n",
            "  inflating: trainingSet/9/Danh (14).jpg  \n",
            "  inflating: trainingSet/9/Danh (15).jpg  \n",
            "  inflating: trainingSet/9/Danh (16).jpg  \n",
            "  inflating: trainingSet/9/Danh (17).jpg  \n",
            "  inflating: trainingSet/9/Danh (18).jpg  \n",
            "  inflating: trainingSet/9/Danh (19).jpg  \n",
            "  inflating: trainingSet/9/Danh (2).jpg  \n",
            "  inflating: trainingSet/9/Danh (20).jpg  \n",
            "  inflating: trainingSet/9/Danh (21).jpg  \n",
            "  inflating: trainingSet/9/Danh (22).jpg  \n",
            "  inflating: trainingSet/9/Danh (23).jpg  \n",
            "  inflating: trainingSet/9/Danh (24).jpg  \n",
            "  inflating: trainingSet/9/Danh (25).jpg  \n",
            "  inflating: trainingSet/9/Danh (26).jpg  \n",
            "  inflating: trainingSet/9/Danh (27).jpg  \n",
            "  inflating: trainingSet/9/Danh (28).jpg  \n",
            "  inflating: trainingSet/9/Danh (29).jpg  \n",
            "  inflating: trainingSet/9/Danh (3).jpg  \n",
            "  inflating: trainingSet/9/Danh (30).jpg  \n",
            "  inflating: trainingSet/9/Danh (31).jpg  \n",
            "  inflating: trainingSet/9/Danh (32).jpg  \n",
            "  inflating: trainingSet/9/Danh (33).jpg  \n",
            "  inflating: trainingSet/9/Danh (34).jpg  \n",
            "  inflating: trainingSet/9/Danh (35).jpg  \n",
            "  inflating: trainingSet/9/Danh (36).jpg  \n",
            "  inflating: trainingSet/9/Danh (37).jpg  \n",
            "  inflating: trainingSet/9/Danh (38).jpg  \n",
            "  inflating: trainingSet/9/Danh (39).jpg  \n",
            "  inflating: trainingSet/9/Danh (4).jpg  \n",
            "  inflating: trainingSet/9/Danh (40).jpg  \n",
            "  inflating: trainingSet/9/Danh (41).jpg  \n",
            "  inflating: trainingSet/9/Danh (42).jpg  \n",
            "  inflating: trainingSet/9/Danh (43).jpg  \n",
            "  inflating: trainingSet/9/Danh (44).jpg  \n",
            "  inflating: trainingSet/9/Danh (45).jpg  \n",
            "  inflating: trainingSet/9/Danh (46).jpg  \n",
            "  inflating: trainingSet/9/Danh (47).jpg  \n",
            "  inflating: trainingSet/9/Danh (48).jpg  \n",
            "  inflating: trainingSet/9/Danh (49).jpg  \n",
            "  inflating: trainingSet/9/Danh (5).jpg  \n",
            "  inflating: trainingSet/9/Danh (50).jpg  \n",
            "  inflating: trainingSet/9/Danh (51).jpg  \n",
            "  inflating: trainingSet/9/Danh (52).jpg  \n",
            "  inflating: trainingSet/9/Danh (53).jpg  \n",
            "  inflating: trainingSet/9/Danh (54).jpg  \n",
            "  inflating: trainingSet/9/Danh (55).jpg  \n",
            "  inflating: trainingSet/9/Danh (56).jpg  \n",
            "  inflating: trainingSet/9/Danh (57).jpg  \n",
            "  inflating: trainingSet/9/Danh (58).jpg  \n",
            "  inflating: trainingSet/9/Danh (59).jpg  \n",
            "  inflating: trainingSet/9/Danh (6).jpg  \n",
            "  inflating: trainingSet/9/Danh (60).jpg  \n",
            "  inflating: trainingSet/9/Danh (7).jpg  \n",
            "  inflating: trainingSet/9/Danh (8).jpg  \n",
            "  inflating: trainingSet/9/Danh (9).jpg  \n"
          ]
        }
      ]
    },
    {
      "cell_type": "code",
      "source": [
        "# Check traindata\n",
        "for i in range(10): # lệnh !ls không hiểu python nên ko dùng '{}'.format i\n",
        "    !ls trainingSet/{i}| wc -l"
      ],
      "metadata": {
        "id": "a3tkTVF2vrUm",
        "colab": {
          "base_uri": "https://localhost:8080/"
        },
        "outputId": "0fe50409-a7fe-4f00-cdf6-100d75eb4579"
      },
      "execution_count": 95,
      "outputs": [
        {
          "output_type": "stream",
          "name": "stdout",
          "text": [
            "60\n",
            "60\n",
            "60\n",
            "60\n",
            "60\n",
            "60\n",
            "60\n",
            "60\n",
            "60\n",
            "60\n"
          ]
        }
      ]
    },
    {
      "cell_type": "code",
      "source": [
        "# Check testdata\n",
        "!ls testing/| wc -l"
      ],
      "metadata": {
        "id": "27gm55OLvs47",
        "colab": {
          "base_uri": "https://localhost:8080/"
        },
        "outputId": "f6aaadc3-aa85-43c2-c1dd-b06ab38e6ede"
      },
      "execution_count": 96,
      "outputs": [
        {
          "output_type": "stream",
          "name": "stdout",
          "text": [
            "80\n"
          ]
        }
      ]
    },
    {
      "cell_type": "code",
      "source": [
        "!ls trainingSet/| wc -l"
      ],
      "metadata": {
        "id": "d6Fi00N0vuB2",
        "colab": {
          "base_uri": "https://localhost:8080/"
        },
        "outputId": "88e2ae05-40dc-405d-e5b9-32cc450ce93d"
      },
      "execution_count": 97,
      "outputs": [
        {
          "output_type": "stream",
          "name": "stdout",
          "text": [
            "10\n"
          ]
        }
      ]
    },
    {
      "cell_type": "markdown",
      "source": [
        "# Preprocessing Data"
      ],
      "metadata": {
        "id": "oGZoB9U3vwAQ"
      }
    },
    {
      "cell_type": "code",
      "source": [
        "import tensorflow as tf\n",
        "from pathlib import Path"
      ],
      "metadata": {
        "id": "ewie4xKAvwyw"
      },
      "execution_count": 222,
      "outputs": []
    },
    {
      "cell_type": "code",
      "source": [
        "train_root = Path('trainingSet/')\n",
        "testing_root=Path('testing/')\n",
        "# convert to string type\n",
        "filelist_ds= tf.data.Dataset.list_files(str(train_root/'*/*')) # 2 level scan (train_root to folders 0 - 9 then access each one)\n",
        "test_list = tf.data.Dataset.list_files(str(testing_root/'*'))\n",
        "# 9 random elements\n",
        "for file in filelist_ds.take(8):\n",
        "  print(file) #filename path in tf.data\n",
        "for file in test_list.take(8):\n",
        "  print(file) #filename path in tf.data"
      ],
      "metadata": {
        "id": "jlUsXxNivw4Q",
        "colab": {
          "base_uri": "https://localhost:8080/"
        },
        "outputId": "11b70bd3-43a8-41c3-b234-656b87c292f6"
      },
      "execution_count": 223,
      "outputs": [
        {
          "output_type": "stream",
          "name": "stdout",
          "text": [
            "tf.Tensor(b'trainingSet/9/Danh (29).jpg', shape=(), dtype=string)\n",
            "tf.Tensor(b'trainingSet/3/Long (45).jpg', shape=(), dtype=string)\n",
            "tf.Tensor(b'trainingSet/3/Long (35).jpg', shape=(), dtype=string)\n",
            "tf.Tensor(b'trainingSet/0/Hy (54).jpg', shape=(), dtype=string)\n",
            "tf.Tensor(b'trainingSet/4/Minh (5).jpg', shape=(), dtype=string)\n",
            "tf.Tensor(b'trainingSet/0/Hy (60).jpg', shape=(), dtype=string)\n",
            "tf.Tensor(b'trainingSet/2/Kiet (49).jpg', shape=(), dtype=string)\n",
            "tf.Tensor(b'trainingSet/7/Truc (32).jpg', shape=(), dtype=string)\n",
            "tf.Tensor(b'testing/Khiet (37).jpg', shape=(), dtype=string)\n",
            "tf.Tensor(b'testing/Khiet (51).jpg', shape=(), dtype=string)\n",
            "tf.Tensor(b'testing/Long (46).jpg', shape=(), dtype=string)\n",
            "tf.Tensor(b'testing/Khiet (57).jpg', shape=(), dtype=string)\n",
            "tf.Tensor(b'testing/Hy (31).jpg', shape=(), dtype=string)\n",
            "tf.Tensor(b'testing/Kiet (52).jpg', shape=(), dtype=string)\n",
            "tf.Tensor(b'testing/Thang (60).jpg', shape=(), dtype=string)\n",
            "tf.Tensor(b'testing/Minh (45).jpg', shape=(), dtype=string)\n"
          ]
        }
      ]
    },
    {
      "cell_type": "code",
      "source": [
        "def get_label(file_path):\n",
        "  parts = tf.strings.split(file_path, '/')\n",
        "  #part[0] = train\n",
        "  #part[1] = 0/1.../9\n",
        "  #part[2] = filename\n",
        "  if parts[-2] == \"0\":\n",
        "    labels=[1,0,0,0,0,0,0,0,0,0]\n",
        "  elif parts[-2] == \"1\":\n",
        "    labels=[0,1,0,0,0,0,0,0,0,0]\n",
        "  elif parts[-2] == \"2\":\n",
        "    labels=[0,0,1,0,0,0,0,0,0,0]\n",
        "  elif parts[-2] == \"3\":\n",
        "    labels=[0,0,0,1,0,0,0,0,0,0]\n",
        "  elif parts[-2] == \"4\":\n",
        "    labels=[0,0,0,0,1,0,0,0,0,0]\n",
        "  elif parts[-2] == \"5\":\n",
        "    labels=[0,0,0,0,0,1,0,0,0,0]\n",
        "  elif parts[-2] == \"6\":\n",
        "    labels=[0,0,0,0,0,0,1,0,0,0]\n",
        "  elif parts[-2] == \"7\":\n",
        "    labels=[0,0,0,0,0,0,0,1,0,0]\n",
        "  elif parts[-2] == \"8\":\n",
        "    labels=[0,0,0,0,0,0,0,0,1,0]\n",
        "  else:\n",
        "    labels=[0,0,0,0,0,0,0,0,0,1]\n",
        "    #return labels value but have to convert to tensor becase string we use is python not tf.tensor\n",
        "  return tf.convert_to_tensor(labels) \n",
        "# Test\n",
        "for file in filelist_ds.take(8):\n",
        "  print('filename',file.numpy().decode('utf-8')) # utf8 bỏ tf.tensor\n",
        "  print('label:',get_label(file).numpy())"
      ],
      "metadata": {
        "id": "VXcwf2rYv5j0",
        "colab": {
          "base_uri": "https://localhost:8080/"
        },
        "outputId": "548ddf0c-72fd-4086-9b91-0710ff5a6659"
      },
      "execution_count": 224,
      "outputs": [
        {
          "output_type": "stream",
          "name": "stdout",
          "text": [
            "filename trainingSet/0/Hy (14).jpg\n",
            "label: [1 0 0 0 0 0 0 0 0 0]\n",
            "filename trainingSet/3/Long (34).jpg\n",
            "label: [0 0 0 1 0 0 0 0 0 0]\n",
            "filename trainingSet/2/Kiet (26).jpg\n",
            "label: [0 0 1 0 0 0 0 0 0 0]\n",
            "filename trainingSet/6/Thang (6).jpg\n",
            "label: [0 0 0 0 0 0 1 0 0 0]\n",
            "filename trainingSet/7/Truc (46).jpg\n",
            "label: [0 0 0 0 0 0 0 1 0 0]\n",
            "filename trainingSet/5/Tan (35).jpg\n",
            "label: [0 0 0 0 0 1 0 0 0 0]\n",
            "filename trainingSet/5/Tan (29).jpg\n",
            "label: [0 0 0 0 0 1 0 0 0 0]\n",
            "filename trainingSet/7/Truc (51).jpg\n",
            "label: [0 0 0 0 0 0 0 1 0 0]\n"
          ]
        }
      ]
    },
    {
      "cell_type": "code",
      "source": [
        "from tensorflow._api.v2 import image\n",
        "# Preprocessing function\n",
        "img_height = 30\n",
        "img_width = 40\n",
        "def preprocessing(file_path): #data we have just a file list but data for train model must be pixel value\n",
        "  # Read file\n",
        "  img = tf.io.read_file(file_path)\n",
        "  img = tf.image.decode_jpeg(img,channels=3) # 1 is gray, 3 is color; we use image function of tf.image ; jpeg because jpg is our flie\n",
        "  # Transform\n",
        "    # Conver from uint 8 to float 32 and Normalize value to [0,1]\n",
        "  img = tf.image.convert_image_dtype(img,tf.float32)\n",
        "    # Resize\n",
        "  img = tf.image.resize(img,[img_width,img_height])\n",
        "    # Get image label\n",
        "  label = get_label(file_path)\n",
        "  # Return\n",
        "  print(img.shape)\n",
        "  return img, label"
      ],
      "metadata": {
        "id": "r7wsLMzAJmK0"
      },
      "execution_count": 225,
      "outputs": []
    },
    {
      "cell_type": "markdown",
      "source": [
        "# Build Model"
      ],
      "metadata": {
        "id": "pEtobsn6w5Be"
      }
    },
    {
      "cell_type": "code",
      "source": [
        "import tensorflow as tf\n",
        "from tensorflow.keras import layers\n",
        "#build model\n",
        "model = tf.keras.Sequential()\n",
        "inputs = tf.keras.Input(shape=(img_width,img_height,3))\n",
        "x = layers.Conv2D(10,5,strides=(1,1),padding = 'valid',activation='relu')(inputs)\n",
        "x = layers.MaxPool2D(pool_size=(2,2),strides=2)(x)\n",
        "x = layers.Conv2D(20,5,strides=(1,1),padding='valid',activation='relu')(x)\n",
        "x = layers.MaxPool2D(pool_size=(2,2),strides=2)(x)\n",
        "x = layers.Dropout(0.25)(x)\n",
        "x = layers.Flatten()(x)\n",
        "x = layers.Dense(100,activation='relu')(x)\n",
        "output = layers.Dense(10, activation ='softmax')(x)\n",
        "\n",
        "model = tf.keras.Model(inputs=inputs,outputs=output)\n",
        "model.summary()"
      ],
      "metadata": {
        "colab": {
          "base_uri": "https://localhost:8080/"
        },
        "id": "U-tmLmrSBRX6",
        "outputId": "8fb1a62b-a153-40cc-c536-81893befe705"
      },
      "execution_count": 226,
      "outputs": [
        {
          "output_type": "stream",
          "name": "stdout",
          "text": [
            "Model: \"model_24\"\n",
            "_________________________________________________________________\n",
            " Layer (type)                Output Shape              Param #   \n",
            "=================================================================\n",
            " input_38 (InputLayer)       [(None, 40, 30, 3)]       0         \n",
            "                                                                 \n",
            " conv2d_46 (Conv2D)          (None, 36, 26, 10)        760       \n",
            "                                                                 \n",
            " max_pooling2d_44 (MaxPoolin  (None, 18, 13, 10)       0         \n",
            " g2D)                                                            \n",
            "                                                                 \n",
            " conv2d_47 (Conv2D)          (None, 14, 9, 20)         5020      \n",
            "                                                                 \n",
            " max_pooling2d_45 (MaxPoolin  (None, 7, 4, 20)         0         \n",
            " g2D)                                                            \n",
            "                                                                 \n",
            " dropout_22 (Dropout)        (None, 7, 4, 20)          0         \n",
            "                                                                 \n",
            " flatten_22 (Flatten)        (None, 560)               0         \n",
            "                                                                 \n",
            " dense_46 (Dense)            (None, 100)               56100     \n",
            "                                                                 \n",
            " dense_47 (Dense)            (None, 10)                1010      \n",
            "                                                                 \n",
            "=================================================================\n",
            "Total params: 62,890\n",
            "Trainable params: 62,890\n",
            "Non-trainable params: 0\n",
            "_________________________________________________________________\n"
          ]
        }
      ]
    },
    {
      "cell_type": "code",
      "source": [
        "ds_size = 25000 #(shuffle size) \n",
        "# Set parameter\n",
        "batch_size = 16\n",
        "# Build data\n",
        "train_ds = filelist_ds.shuffle(ds_size) # Shuffling the input and it doesn't have labels\n",
        "train_ds = train_ds.map(preprocessing,num_parallel_calls=tf.data.AUTOTUNE) # Process each element + get labels => train_ds = pixel val and labels\n",
        "train_ds = train_ds.batch(batch_size)\n",
        "train_ds = train_ds.prefetch(8) # chia luồn data"
      ],
      "metadata": {
        "colab": {
          "base_uri": "https://localhost:8080/"
        },
        "id": "08FvFMsPOBcc",
        "outputId": "bb2a2058-d349-4497-e53a-0044010d69c8"
      },
      "execution_count": 227,
      "outputs": [
        {
          "output_type": "stream",
          "name": "stdout",
          "text": [
            "(40, 30, 3)\n"
          ]
        }
      ]
    },
    {
      "cell_type": "markdown",
      "source": [
        "# Compile and training model"
      ],
      "metadata": {
        "id": "zd66ONcuw7yM"
      }
    },
    {
      "cell_type": "code",
      "source": [
        "# Compile model\n",
        "model.compile(\n",
        "    optimizer = 'adam',\n",
        "    loss = 'categorical_crossentropy',\n",
        "    metrics=[\"accuracy\"] #caculate accuracy on each batch\n",
        ")"
      ],
      "metadata": {
        "id": "Q3OahRTfwIip"
      },
      "execution_count": 228,
      "outputs": []
    },
    {
      "cell_type": "code",
      "source": [
        "# Train model\n",
        "model.fit(train_ds, epochs = 10)"
      ],
      "metadata": {
        "id": "YesYSUHdwKJK",
        "colab": {
          "base_uri": "https://localhost:8080/"
        },
        "outputId": "e8fffc24-9a42-4dd4-8859-d267d9019ef2"
      },
      "execution_count": 229,
      "outputs": [
        {
          "output_type": "stream",
          "name": "stdout",
          "text": [
            "Epoch 1/5\n",
            "19/19 [==============================] - 2s 7ms/step - loss: 2.1666 - accuracy: 0.2817\n",
            "Epoch 2/5\n",
            "19/19 [==============================] - 0s 10ms/step - loss: 1.2075 - accuracy: 0.7183\n",
            "Epoch 3/5\n",
            "19/19 [==============================] - 0s 10ms/step - loss: 0.4028 - accuracy: 0.8750\n",
            "Epoch 4/5\n",
            "19/19 [==============================] - 0s 12ms/step - loss: 0.1808 - accuracy: 0.9500\n",
            "Epoch 5/5\n",
            "19/19 [==============================] - 0s 10ms/step - loss: 0.1465 - accuracy: 0.9567\n"
          ]
        },
        {
          "output_type": "execute_result",
          "data": {
            "text/plain": [
              "<keras.callbacks.History at 0x7f12b453c940>"
            ]
          },
          "metadata": {},
          "execution_count": 229
        }
      ]
    },
    {
      "cell_type": "code",
      "source": [
        "model.save('ClassMemberANNmodel.h5')"
      ],
      "metadata": {
        "id": "Ci7-gkEFwLVZ"
      },
      "execution_count": 230,
      "outputs": []
    },
    {
      "cell_type": "code",
      "source": [
        "import matplotlib.pyplot as plt\n",
        "from keras.utils import load_img\n",
        "from keras.utils.image_utils import img_to_array\n",
        "import numpy as np\n",
        "\n",
        "name = {0: 'Hy', 1: 'Khiết', 2: 'Kiệt', 3: 'Long', 4: 'Minh', 5: 'Tấn', 6: 'Thắng', 7: 'Trúc', 8: 'Điển', 9: 'Danh'}\n",
        "# Load 10 picture to scan the image\n",
        "for i in range(9):\n",
        "    img = load_img(\"Danh{i}.jpg\".format(i=i), target_size=(40, 30))\n",
        "    plt.imshow(img)\n",
        "    img = img_to_array(img)\n",
        "    img = img.reshape(1, 40, 30, 3)\n",
        "    img = img.astype('float32')\n",
        "    img = img / 255\n",
        "    result = np.argmax(model.predict(img), axis=1)\n",
        "    plt.show()\n",
        "    print(name[result[0]])\n"
      ],
      "metadata": {
        "colab": {
          "base_uri": "https://localhost:8080/",
          "height": 1000
        },
        "id": "QquipF2E-3Tn",
        "outputId": "9c76f91c-be7a-4220-a6c8-e2a3b3807c9e"
      },
      "execution_count": 247,
      "outputs": [
        {
          "output_type": "stream",
          "name": "stdout",
          "text": [
            "1/1 [==============================] - 0s 32ms/step\n"
          ]
        },
        {
          "output_type": "display_data",
          "data": {
            "text/plain": [
              "<Figure size 640x480 with 1 Axes>"
            ],
            "image/png": "[encoded data removed]"
          },
          "metadata": {}
        },
        {
          "output_type": "stream",
          "name": "stdout",
          "text": [
            "Thắng\n",
            "1/1 [==============================] - 0s 49ms/step\n"
          ]
        },
        {
          "output_type": "display_data",
          "data": {
            "text/plain": [
              "<Figure size 640x480 with 1 Axes>"
            ],
            "image/png": "[encoded data removed]"
          },
          "metadata": {}
        },
        {
          "output_type": "stream",
          "name": "stdout",
          "text": [
            "Thắng\n",
            "1/1 [==============================] - 0s 34ms/step\n"
          ]
        },
        {
          "output_type": "display_data",
          "data": {
            "text/plain": [
              "<Figure size 640x480 with 1 Axes>"
            ],
            "image/png": "[encoded data removed]"
          },
          "metadata": {}
        },
        {
          "output_type": "stream",
          "name": "stdout",
          "text": [
            "Thắng\n",
            "1/1 [==============================] - 0s 21ms/step\n"
          ]
        },
        {
          "output_type": "display_data",
          "data": {
            "text/plain": [
              "<Figure size 640x480 with 1 Axes>"
            ],
            "image/png": "[encoded data removed]"
          },
          "metadata": {}
        },
        {
          "output_type": "stream",
          "name": "stdout",
          "text": [
            "Thắng\n",
            "1/1 [==============================] - 0s 20ms/step\n"
          ]
        },
        {
          "output_type": "display_data",
          "data": {
            "text/plain": [
              "<Figure size 640x480 with 1 Axes>"
            ],
            "image/png": "[encoded data removed]"
          },
          "metadata": {}
        },
        {
          "output_type": "stream",
          "name": "stdout",
          "text": [
            "Danh\n",
            "1/1 [==============================] - 0s 20ms/step\n"
          ]
        },
        {
          "output_type": "display_data",
          "data": {
            "text/plain": [
              "<Figure size 640x480 with 1 Axes>"
            ],
            "image/png": "[encoded data removed]"
          },
          "metadata": {}
        },
        {
          "output_type": "stream",
          "name": "stdout",
          "text": [
            "Danh\n",
            "1/1 [==============================] - 0s 19ms/step\n"
          ]
        },
        {
          "output_type": "display_data",
          "data": {
            "text/plain": [
              "<Figure size 640x480 with 1 Axes>"
            ],
            "image/png": "[encoded data removed]"
          },
          "metadata": {}
        },
        {
          "output_type": "stream",
          "name": "stdout",
          "text": [
            "Danh\n",
            "1/1 [==============================] - 0s 19ms/step\n"
          ]
        },
        {
          "output_type": "display_data",
          "data": {
            "text/plain": [
              "<Figure size 640x480 with 1 Axes>"
            ],
            "image/png": "[encoded data removed]"
          },
          "metadata": {}
        },
        {
          "output_type": "stream",
          "name": "stdout",
          "text": [
            "Danh\n",
            "1/1 [==============================] - 0s 20ms/step\n"
          ]
        },
        {
          "output_type": "display_data",
          "data": {
            "text/plain": [
              "<Figure size 640x480 with 1 Axes>"
            ],
            "image/png": "[encoded data removed]"
          },
          "metadata": {}
        },
        {
          "output_type": "stream",
          "name": "stdout",
          "text": [
            "Trúc\n"
          ]
        }
      ]
    }
  ]
}