{
  "nbformat": 4,
  "nbformat_minor": 0,
  "metadata": {
    "colab": {
      "provenance": [],
      "collapsed_sections": [
        "Y_EH4l0hwemR",
        "ni3IxJmEY1wO",
        "eG8QKFwJdGow"
      ],
      "authorship_tag": "ABX9TyNCBjvDSAk4DDgLrw6ut9gY",
      "include_colab_link": true
    },
    "kernelspec": {
      "name": "python3",
      "display_name": "Python 3"
    },
    "language_info": {
      "name": "python"
    }
  },
  "cells": [
    {
      "cell_type": "markdown",
      "metadata": {
        "id": "view-in-github",
        "colab_type": "text"
      },
      "source": [
        "<a href=\"https://colab.research.google.com/github/blowmeaway1234/Artificial-Intelligence/blob/main/Training_model_Human_Recognize.ipynb\" target=\"_parent\"><img src=\"https://colab.research.google.com/assets/colab-badge.svg\" alt=\"Open In Colab\"/></a>"
      ]
    },
    {
      "cell_type": "markdown",
      "metadata": {
        "id": "Y_EH4l0hwemR"
      },
      "source": [
        "#Google Drive Data "
      ]
    },
    {
      "cell_type": "code",
      "execution_count": 11,
      "metadata": {
        "colab": {
          "base_uri": "https://localhost:8080/"
        },
        "outputId": "52efb9ac-88b3-42c9-91d7-5f882b47ca89",
        "id": "DMSIZ31cwemT"
      },
      "outputs": [
        {
          "output_type": "stream",
          "name": "stdout",
          "text": [
            "Drive already mounted at /content/drive; to attempt to forcibly remount, call drive.mount(\"/content/drive\", force_remount=True).\n"
          ]
        }
      ],
      "source": [
        "from google.colab import drive\n",
        "drive.mount('/content/drive')"
      ]
    },
    {
      "cell_type": "code",
      "execution_count": 12,
      "metadata": {
        "colab": {
          "base_uri": "https://localhost:8080/"
        },
        "outputId": "77d2d020-1861-4275-ab72-406f946dc109",
        "id": "-I-_wJ5NwemU"
      },
      "outputs": [
        {
          "output_type": "stream",
          "name": "stdout",
          "text": [
            "test.zip  train.zip  val.zip\n"
          ]
        }
      ],
      "source": [
        "!ls /content/drive/MyDrive/HumanRE"
      ]
    },
    {
      "cell_type": "code",
      "execution_count": null,
      "metadata": {
        "id": "om_i4HWuYym0"
      },
      "outputs": [],
      "source": [
        "! unzip /content/drive/MyDrive/HumanRE/train.zip\n",
        "! unzip /content/drive/MyDrive/HumanRE/test.zip\n",
        "! unzip /content/drive/MyDrive/HumanRE/val.zip"
      ]
    },
    {
      "cell_type": "code",
      "execution_count": 14,
      "metadata": {
        "colab": {
          "base_uri": "https://localhost:8080/"
        },
        "id": "BPVXA2u1Yzxu",
        "outputId": "bb2fc54d-df1f-41ae-de7e-ea865278c7e3"
      },
      "outputs": [
        {
          "output_type": "stream",
          "name": "stdout",
          "text": [
            "137\n",
            "221\n",
            "59\n",
            "143\n",
            "262\n",
            "141\n",
            "904\n",
            "1471\n",
            "550\n"
          ]
        }
      ],
      "source": [
        "for i in range(3):\n",
        "  !ls test/{i}| wc -l\n",
        "\n",
        "for i in range(3):\n",
        "  !ls val/{i}| wc -l\n",
        "  \n",
        "for i in range(3): \n",
        "  !ls train/{i}| wc -l"
      ]
    },
    {
      "cell_type": "markdown",
      "metadata": {
        "id": "ni3IxJmEY1wO"
      },
      "source": [
        "# Build Data Pipe line"
      ]
    },
    {
      "cell_type": "code",
      "execution_count": 88,
      "metadata": {
        "id": "QAuzo1uzY9S3"
      },
      "outputs": [],
      "source": [
        "# import library\n",
        "import numpy as np\n",
        "import tensorflow as tf\n",
        "import matplotlib.pyplot as plt\n",
        "from pathlib import Path\n",
        "from sklearn import metrics\n",
        "from keras.models import Sequential\n",
        "from keras.layers import Dense\n",
        "from tensorflow.keras import layers\n",
        "from tensorflow.keras.optimizers import Adam \n",
        "from keras.callbacks import EarlyStopping"
      ]
    },
    {
      "cell_type": "code",
      "execution_count": 89,
      "metadata": {
        "id": "XpQXj7KvZCBv"
      },
      "outputs": [],
      "source": [
        "# Part data train\n",
        "train_root = Path('train/')\n",
        "filelist_Training = tf.data.Dataset.list_files(str(train_root/'*/*')) \n",
        "\n",
        "# Part data test\n",
        "test_root = Path('test/')\n",
        "filelist_Testing = tf.data.Dataset.list_files(str(test_root/'*/*'))\n",
        "\n",
        "# Part data validation\n",
        "val_root = Path('val/')\n",
        "filelist_Validation = tf.data.Dataset.list_files(str(val_root/'*/*'))  \n"
      ]
    },
    {
      "cell_type": "code",
      "execution_count": 90,
      "metadata": {
        "colab": {
          "base_uri": "https://localhost:8080/"
        },
        "id": "ngWjoaddZKBE",
        "outputId": "e3e76bed-eaa0-4fcd-9ebd-654405ef9040"
      },
      "outputs": [
        {
          "output_type": "stream",
          "name": "stdout",
          "text": [
            "filename: train/1/m (228).jpg\n",
            "filename: train/2/all body (1).jpg\n",
            "filename: test/0/te (138).jpg\n",
            "filename: test/1/test 1 (1).jpg\n",
            "filename: val/2/valval (75).jpg\n",
            "filename: val/1/val 1 (192).jpg\n"
          ]
        }
      ],
      "source": [
        "for file in filelist_Training.take(2):\n",
        "  print('filename:',file.numpy().decode('utf-8')) # Decode tf.tensor to utf8\n",
        "for file in filelist_Testing.take(2):\n",
        "  print('filename:',file.numpy().decode('utf-8')) # Decode tf.tensor to utf8\n",
        "for file in filelist_Validation.take(2):\n",
        "  print('filename:',file.numpy().decode('utf-8')) # Decode tf.tensor to utf8"
      ]
    },
    {
      "cell_type": "code",
      "execution_count": 91,
      "metadata": {
        "id": "JeXa452cZVS7"
      },
      "outputs": [],
      "source": [
        "#Preprocessing\n",
        "def preprocessing(file_path):\n",
        "  #Readfile\n",
        "  img1 = tf.io.read_file(file_path)\n",
        "  img1 = tf.image.decode_jpeg(img1,channels=3) #Read Color image\n",
        "  img1 = tf.image.rgb_to_grayscale(img1, name=None) # convert to gray scale\n",
        "  #Transform\n",
        "  img1 = tf.image.convert_image_dtype(img1,tf.float32) # convert uint8 to float and normalize [0,1]\n",
        "  #Resize image\n",
        "  img1 = tf.image.resize(img1,[img_width,img_height])\n",
        "  #-4. Reshape -> vector hàng\n",
        "  img1 = tf.reshape(img1,(28,28,1))\n",
        "  #Get image lable\n",
        "  label = get_label(file_path) #sự dụng hàm test label vừa tạo\n",
        "  #Return\n",
        "  return img1,label#Preprocessing\n"
      ]
    },
    {
      "cell_type": "code",
      "execution_count": 92,
      "metadata": {
        "id": "o5H299P-Zmqa"
      },
      "outputs": [],
      "source": [
        "# Make Label\n",
        "def get_label(file_path):\n",
        "  parts = tf.strings.split(file_path, '/')\n",
        "  if parts[-2] == \"0\":\n",
        "    labels=[1,0,0] \n",
        "  elif parts[-2] ==\"1\":\n",
        "    labels=[0,1,0]\n",
        "  else:\n",
        "    labels=[0,0,1] \n",
        "  return tf.convert_to_tensor(labels)"
      ]
    },
    {
      "cell_type": "code",
      "execution_count": 93,
      "metadata": {
        "colab": {
          "base_uri": "https://localhost:8080/"
        },
        "id": "8yJbSTm7ZboD",
        "outputId": "195fe79d-45da-4200-d5fb-ec24b92ecd91"
      },
      "outputs": [
        {
          "output_type": "stream",
          "name": "stdout",
          "text": [
            "Value Reshapsize 784\n"
          ]
        }
      ],
      "source": [
        "#Global Value\n",
        "batch_size= 32                     \n",
        "img_height = 28\n",
        "img_width = 28\n",
        "\n",
        "datatrain_size = 2123 #(shuffle size_train) \n",
        "datatest_size = 221 #(shuffle test) \n",
        "dataval_size = 546\n",
        "reshapesize= img_height*img_width\n",
        "print(\"Value Reshapsize\",reshapesize)"
      ]
    },
    {
      "cell_type": "code",
      "execution_count": 94,
      "metadata": {
        "id": "0D3OsI6JZLVi"
      },
      "outputs": [],
      "source": [
        "#build data training\n",
        "train_dataset = filelist_Training.shuffle(datatrain_size) \n",
        "train_dataset = train_dataset.map(preprocessing,num_parallel_calls=tf.data.AUTOTUNE) # Process each element + get labels => train_ds = pixel val and labels\n",
        "train_dataset = train_dataset.batch(batch_size)\n",
        "train_dataset = train_dataset.prefetch(2) # chia luồn data"
      ]
    },
    {
      "cell_type": "code",
      "execution_count": 95,
      "metadata": {
        "id": "u_eu7AnCY_Zp"
      },
      "outputs": [],
      "source": [
        "#build validation data\n",
        "test_dataset_validation = filelist_Validation.shuffle(dataval_size) \n",
        "test_dataset_validation = test_dataset_validation.map(preprocessing,num_parallel_calls=tf.data.AUTOTUNE) # Process each element + get labels => train_ds = pixel val and labels\n",
        "test_dataset_validation = test_dataset_validation.batch(batch_size)\n",
        "test_dataset_validation = test_dataset_validation.prefetch(2) # chia luồn data"
      ]
    },
    {
      "cell_type": "code",
      "execution_count": 96,
      "metadata": {
        "id": "gqD6eTuFezrr"
      },
      "outputs": [],
      "source": [
        "#build data testing\n",
        "test_dataset = filelist_Testing.shuffle(datatest_size) \n",
        "test_dataset = test_dataset.map(preprocessing,num_parallel_calls=tf.data.AUTOTUNE) # Process each element + get labels => train_ds = pixel val and labels\n",
        "test_dataset = test_dataset.batch(batch_size)\n",
        "test_dataset = test_dataset.prefetch(2) # chia luồn data"
      ]
    },
    {
      "cell_type": "code",
      "source": [
        "from keras.preprocessing.image import ImageDataGenerator\n",
        "# Data augmentation\n",
        "datagen = ImageDataGenerator(\n",
        "    rotation_range=10,\n",
        "    zoom_range=0.1,\n",
        "    width_shift_range=0.1,\n",
        "    height_shift_range=0.1,\n",
        "    brightness_range=[0.9, 1.1],\n",
        "    shear_range=10,\n",
        "    horizontal_flip=True,\n",
        "    vertical_flip=True\n",
        ")"
      ],
      "metadata": {
        "id": "oGnOEfDVDLng"
      },
      "execution_count": 97,
      "outputs": []
    },
    {
      "cell_type": "markdown",
      "metadata": {
        "id": "eG8QKFwJdGow"
      },
      "source": [
        "#Build Model\n"
      ]
    },
    {
      "cell_type": "code",
      "execution_count": 98,
      "metadata": {
        "colab": {
          "base_uri": "https://localhost:8080/"
        },
        "id": "PMB4UOakdJjv",
        "outputId": "5c2ebc5e-7908-481c-b0f8-62719ee56494"
      },
      "outputs": [
        {
          "output_type": "stream",
          "name": "stdout",
          "text": [
            "Model: \"sequential_7\"\n",
            "_________________________________________________________________\n",
            " Layer (type)                Output Shape              Param #   \n",
            "=================================================================\n",
            " conv2d_14 (Conv2D)          (None, 24, 24, 10)        260       \n",
            "                                                                 \n",
            " max_pooling2d_14 (MaxPoolin  (None, 12, 12, 10)       0         \n",
            " g2D)                                                            \n",
            "                                                                 \n",
            " conv2d_15 (Conv2D)          (None, 8, 8, 20)          5020      \n",
            "                                                                 \n",
            " max_pooling2d_15 (MaxPoolin  (None, 4, 4, 20)         0         \n",
            " g2D)                                                            \n",
            "                                                                 \n",
            " flatten_7 (Flatten)         (None, 320)               0         \n",
            "                                                                 \n",
            " dropout_7 (Dropout)         (None, 320)               0         \n",
            "                                                                 \n",
            " dense_14 (Dense)            (None, 100)               32100     \n",
            "                                                                 \n",
            " dense_15 (Dense)            (None, 3)                 303       \n",
            "                                                                 \n",
            "=================================================================\n",
            "Total params: 37,683\n",
            "Trainable params: 37,683\n",
            "Non-trainable params: 0\n",
            "_________________________________________________________________\n"
          ]
        }
      ],
      "source": [
        "# Build CNN model using function API\n",
        "# Convolutional Neural Network\n",
        "\n",
        "# Build CNN model\n",
        "model = tf.keras.Sequential()\n",
        "model.add(tf.keras.Input(shape=(img_height, img_width, 1)))\n",
        "model.add(layers.Conv2D(10, 5, strides=(1, 1), padding='valid', activation='relu'))\n",
        "model.add(layers.MaxPool2D(pool_size=(2, 2), strides=2))\n",
        "model.add(layers.Conv2D(20, 5, strides=(1, 1), padding='valid', activation='relu'))\n",
        "model.add(layers.MaxPool2D(pool_size=(2, 2), strides=2))\n",
        "model.add(layers.Flatten())\n",
        "model.add(layers.Dropout(0.25))\n",
        "model.add(layers.Dense(100, activation='relu'))\n",
        "model.add(layers.Dense(3, activation='softmax'))\n",
        "\n",
        "model.compile(loss='categorical_crossentropy', optimizer=Adam(), metrics=['accuracy']) # Compile model\n",
        "model.summary()\n",
        "\n",
        "# Draw Graph\n",
        "tf.keras.utils.plot_model(model,'model.png',show_shapes=True)\n",
        "\n",
        "early_stopping = EarlyStopping(monitor='val_loss', patience=3)\n"
      ]
    },
    {
      "cell_type": "markdown",
      "metadata": {
        "id": "O4ZgthwEaasw"
      },
      "source": [
        "#Train Model"
      ]
    },
    {
      "cell_type": "code",
      "execution_count": 99,
      "metadata": {
        "colab": {
          "base_uri": "https://localhost:8080/",
          "height": 1000
        },
        "id": "n_F6b4QEaRsD",
        "outputId": "e727e4de-1f54-4791-db94-062e9881a7c1"
      },
      "outputs": [
        {
          "output_type": "stream",
          "name": "stdout",
          "text": [
            "Epoch 1/30\n",
            "92/92 [==============================] - 111s 939ms/step - loss: 0.8566 - accuracy: 0.5870 - val_loss: 0.6296 - val_accuracy: 0.7308\n",
            "Epoch 2/30\n",
            "92/92 [==============================] - 84s 911ms/step - loss: 0.5870 - accuracy: 0.7443 - val_loss: 0.4973 - val_accuracy: 0.7985\n",
            "Epoch 3/30\n",
            "92/92 [==============================] - 85s 930ms/step - loss: 0.4950 - accuracy: 0.7901 - val_loss: 0.5263 - val_accuracy: 0.8059\n",
            "Epoch 4/30\n",
            "92/92 [==============================] - 87s 939ms/step - loss: 0.4806 - accuracy: 0.7993 - val_loss: 0.4242 - val_accuracy: 0.8370\n",
            "Epoch 5/30\n",
            "92/92 [==============================] - 82s 895ms/step - loss: 0.4199 - accuracy: 0.8311 - val_loss: 0.4268 - val_accuracy: 0.8297\n",
            "Epoch 6/30\n",
            "92/92 [==============================] - 86s 939ms/step - loss: 0.3904 - accuracy: 0.8386 - val_loss: 0.4078 - val_accuracy: 0.8480\n",
            "Epoch 7/30\n",
            "92/92 [==============================] - 84s 914ms/step - loss: 0.3474 - accuracy: 0.8636 - val_loss: 0.5081 - val_accuracy: 0.8022\n",
            "Epoch 8/30\n",
            "92/92 [==============================] - 86s 940ms/step - loss: 0.3318 - accuracy: 0.8663 - val_loss: 0.3872 - val_accuracy: 0.8352\n",
            "Epoch 9/30\n",
            "92/92 [==============================] - 83s 896ms/step - loss: 0.3178 - accuracy: 0.8749 - val_loss: 0.3554 - val_accuracy: 0.8700\n",
            "Epoch 10/30\n",
            "92/92 [==============================] - 86s 936ms/step - loss: 0.2978 - accuracy: 0.8872 - val_loss: 0.3383 - val_accuracy: 0.8828\n",
            "Epoch 11/30\n",
            "92/92 [==============================] - 84s 914ms/step - loss: 0.2770 - accuracy: 0.8988 - val_loss: 0.3401 - val_accuracy: 0.8883\n",
            "Epoch 12/30\n",
            "92/92 [==============================] - 85s 916ms/step - loss: 0.2474 - accuracy: 0.9015 - val_loss: 0.3332 - val_accuracy: 0.8810\n",
            "Epoch 13/30\n",
            "92/92 [==============================] - 83s 897ms/step - loss: 0.2353 - accuracy: 0.9094 - val_loss: 0.3259 - val_accuracy: 0.8883\n",
            "Epoch 14/30\n",
            "92/92 [==============================] - 84s 918ms/step - loss: 0.2498 - accuracy: 0.9036 - val_loss: 0.3524 - val_accuracy: 0.8755\n",
            "Epoch 15/30\n",
            "92/92 [==============================] - 83s 888ms/step - loss: 0.2236 - accuracy: 0.9074 - val_loss: 0.3509 - val_accuracy: 0.8681\n",
            "Epoch 16/30\n",
            "92/92 [==============================] - 86s 936ms/step - loss: 0.2062 - accuracy: 0.9169 - val_loss: 0.3023 - val_accuracy: 0.8956\n",
            "Epoch 17/30\n",
            "92/92 [==============================] - 81s 886ms/step - loss: 0.1973 - accuracy: 0.9197 - val_loss: 0.3160 - val_accuracy: 0.8846\n",
            "Epoch 18/30\n",
            "92/92 [==============================] - 84s 906ms/step - loss: 0.1955 - accuracy: 0.9251 - val_loss: 0.3356 - val_accuracy: 0.8700\n",
            "Epoch 19/30\n",
            "92/92 [==============================] - 86s 940ms/step - loss: 0.2001 - accuracy: 0.9217 - val_loss: 0.2841 - val_accuracy: 0.9121\n",
            "Epoch 20/30\n",
            "92/92 [==============================] - 85s 922ms/step - loss: 0.1984 - accuracy: 0.9262 - val_loss: 0.3803 - val_accuracy: 0.8608\n",
            "Epoch 21/30\n",
            "92/92 [==============================] - 84s 913ms/step - loss: 0.1853 - accuracy: 0.9262 - val_loss: 0.2799 - val_accuracy: 0.9029\n",
            "Epoch 22/30\n",
            "92/92 [==============================] - 88s 959ms/step - loss: 0.1679 - accuracy: 0.9364 - val_loss: 0.2986 - val_accuracy: 0.9011\n",
            "Epoch 23/30\n",
            "92/92 [==============================] - 85s 927ms/step - loss: 0.1641 - accuracy: 0.9350 - val_loss: 0.2827 - val_accuracy: 0.9066\n",
            "Epoch 24/30\n",
            "92/92 [==============================] - 85s 902ms/step - loss: 0.1472 - accuracy: 0.9446 - val_loss: 0.2767 - val_accuracy: 0.9121\n",
            "Epoch 25/30\n",
            "92/92 [==============================] - 87s 948ms/step - loss: 0.1477 - accuracy: 0.9426 - val_loss: 0.3243 - val_accuracy: 0.8993\n",
            "Epoch 26/30\n",
            "92/92 [==============================] - 83s 899ms/step - loss: 0.1378 - accuracy: 0.9494 - val_loss: 0.2858 - val_accuracy: 0.9029\n",
            "Epoch 27/30\n",
            "92/92 [==============================] - 90s 987ms/step - loss: 0.1392 - accuracy: 0.9463 - val_loss: 0.2553 - val_accuracy: 0.9158\n",
            "Epoch 28/30\n",
            "92/92 [==============================] - 86s 927ms/step - loss: 0.1453 - accuracy: 0.9436 - val_loss: 0.3452 - val_accuracy: 0.8828\n",
            "Epoch 29/30\n",
            "92/92 [==============================] - 87s 946ms/step - loss: 0.1501 - accuracy: 0.9467 - val_loss: 0.2711 - val_accuracy: 0.9212\n",
            "Epoch 30/30\n",
            "92/92 [==============================] - 87s 939ms/step - loss: 0.1183 - accuracy: 0.9556 - val_loss: 0.2661 - val_accuracy: 0.9267\n"
          ]
        },
        {
          "output_type": "display_data",
          "data": {
            "text/plain": [
              "<Figure size 640x480 with 1 Axes>"
            ],
            "image/png": "[encoded data removed]"
          },
          "metadata": {}
        },
        {
          "output_type": "display_data",
          "data": {
            "text/plain": [
              "<Figure size 640x480 with 1 Axes>"
            ],
            "image/png": "[encoded data removed]"
          },
          "metadata": {}
        }
      ],
      "source": [
        "# Train model\n",
        "history = model.fit(train_dataset, epochs=30, validation_data=test_dataset_validation, callbacks=[early_stopping])\n",
        "\n",
        "# Get training and test loss histories\n",
        "training_loss = history.history['loss']\n",
        "test_loss = history.history['val_loss']\n",
        "\n",
        "# Create count of the number of epochs\n",
        "epoch_count = range(1, len(training_loss) + 1)\n",
        "\n",
        "# Visualize loss history\n",
        "plt.plot(epoch_count, training_loss, 'r--')\n",
        "plt.plot(epoch_count, test_loss, 'b-')\n",
        "plt.legend(['Training Loss', 'Test Loss'])\n",
        "plt.xlabel('Epoch')\n",
        "plt.ylabel('Loss')\n",
        "plt.show()\n",
        "\n",
        "# Get training and test accuracy histories\n",
        "training_accuracy = history.history['accuracy']\n",
        "test_accuracy = history.history['val_accuracy']\n",
        "\n",
        "# Visualize accuracy history\n",
        "plt.plot(epoch_count, training_accuracy, 'r--')\n",
        "plt.plot(epoch_count, test_accuracy, 'b-')\n",
        "plt.legend(['Training Accuracy', 'Test Accuracy'])\n",
        "plt.xlabel('Epoch')\n",
        "plt.ylabel('Accuracy Score')\n",
        "plt.show()\n",
        "\n",
        "model.save('CNN_Human_Rec.h5')"
      ]
    },
    {
      "cell_type": "markdown",
      "metadata": {
        "id": "TCvKQQzO8mba"
      },
      "source": [
        "# Evaluate"
      ]
    },
    {
      "cell_type": "code",
      "execution_count": null,
      "metadata": {
        "id": "kMHl3xVX8pMN",
        "colab": {
          "base_uri": "https://localhost:8080/"
        },
        "outputId": "3936f203-efb6-44ad-d0f3-deedecd6afe7"
      },
      "outputs": [
        {
          "output_type": "stream",
          "name": "stdout",
          "text": [
            "14/14 [==============================] - 20s 1s/step - loss: 0.1482 - accuracy: 0.9568\n",
            "Test Loss: 0.1481674164533615\n",
            "Test Accuracy: 0.9568345546722412\n",
            " 5/14 [=========>....................] - ETA: 9s "
          ]
        }
      ],
      "source": [
        "# Evaluate model on test dataset\n",
        "evaluation = model.evaluate(test_dataset)\n",
        "print(\"Test Loss:\", evaluation[0])\n",
        "print(\"Test Accuracy:\", evaluation[1])\n",
        "\n",
        "# Predict the label of the test data file\n",
        "y_pred = model.predict(test_dataset)\n",
        "y_pred = np.argmax(y_pred, axis=1)  # Convert predictions to label indices\n",
        "\n",
        "# Convert actual labels from one-hot encoding to integer format\n",
        "y_true = []\n",
        "for _, label in test_dataset:\n",
        "    y_true.extend(np.argmax(label, axis=1))\n",
        "\n",
        "#Draw ConFusion MaTrix\n",
        "from sklearn.metrics import confusion_matrix, ConfusionMatrixDisplay\n",
        "# Calculate confusion matrix\n",
        "cm = confusion_matrix(y_true, y_pred)\n",
        "# Create a ConfusionMatrixDisplay object\n",
        "cm_display = ConfusionMatrixDisplay(confusion_matrix=cm)\n",
        "\n",
        "# Plot the confusion matrix\n",
        "cm_display.plot()\n",
        "plt.title('Confusion Matrix')\n",
        "plt.show()"
      ]
    },
    {
      "cell_type": "code",
      "execution_count": null,
      "metadata": {
        "id": "udrHz8NjRnre"
      },
      "outputs": [],
      "source": [
        "# Draw Graph\n",
        "tf.keras.utils.plot_model(model,'model.png',show_shapes=True)"
      ]
    }
  ]
}