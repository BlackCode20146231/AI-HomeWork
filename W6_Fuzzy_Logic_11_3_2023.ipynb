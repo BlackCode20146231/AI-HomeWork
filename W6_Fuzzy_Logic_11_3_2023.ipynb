{
  "nbformat": 4,
  "nbformat_minor": 0,
  "metadata": {
    "colab": {
      "provenance": [],
      "authorship_tag": "ABX9TyN5rhrU464EtEXtvnk/RCv/",
      "include_colab_link": true
    },
    "kernelspec": {
      "name": "python3",
      "display_name": "Python 3"
    },
    "language_info": {
      "name": "python"
    }
  },
  "cells": [
    {
      "cell_type": "markdown",
      "metadata": {
        "id": "view-in-github",
        "colab_type": "text"
      },
      "source": [
        "<a href=\"https://colab.research.google.com/github/BlackCode20146231/AI-Homework-II/blob/main/W6_Fuzzy_Logic_11_3_2023.ipynb\" target=\"_parent\"><img src=\"https://colab.research.google.com/assets/colab-badge.svg\" alt=\"Open In Colab\"/></a>"
      ]
    },
    {
      "cell_type": "code",
      "execution_count": 34,
      "metadata": {
        "colab": {
          "base_uri": "https://localhost:8080/"
        },
        "id": "dKroEoGVQYlH",
        "outputId": "115355c4-1a6d-43d9-ab49-1a87fb806718"
      },
      "outputs": [
        {
          "output_type": "stream",
          "name": "stdout",
          "text": [
            "Looking in indexes: https://pypi.org/simple, https://us-python.pkg.dev/colab-wheels/public/simple/\n",
            "Requirement already satisfied: scikit-fuzzy in /usr/local/lib/python3.9/dist-packages (0.4.2)\n",
            "Requirement already satisfied: numpy>=1.6.0 in /usr/local/lib/python3.9/dist-packages (from scikit-fuzzy) (1.22.4)\n",
            "Requirement already satisfied: networkx>=1.9.0 in /usr/local/lib/python3.9/dist-packages (from scikit-fuzzy) (3.0)\n",
            "Requirement already satisfied: scipy>=0.9.0 in /usr/local/lib/python3.9/dist-packages (from scikit-fuzzy) (1.10.1)\n"
          ]
        }
      ],
      "source": [
        "pip install scikit-fuzzy"
      ]
    },
    {
      "cell_type": "code",
      "source": [
        "import numpy as np\n",
        "import skfuzzy as fuzz\n",
        "import matplotlib.pyplot as plt\n",
        "from skfuzzy import control as ctal"
      ],
      "metadata": {
        "id": "aLM8laH2Q4rx"
      },
      "execution_count": 2,
      "outputs": []
    },
    {
      "cell_type": "code",
      "source": [
        "#Fuzzy Logic\n",
        "#INPUT\n",
        "setpoint=ctal.Antecedent(np.arange(0,100,1),'Set Point')\n",
        "val_sensor= ctal.Antecedent(np.arange(0,100,1),'Valve Sensor')\n",
        "\n",
        "#OUTPUT\n",
        "pwm=ctal.Consequent(np.arange(0,256,1),'PWM')\n",
        "#Fuzzy membership function\n",
        "\n",
        "# Setpoint Level\n",
        "setpoint['Low Tem']=fuzz.trapmf(setpoint.universe,[0,0,0,18])\n",
        "setpoint['Normal Tem']=fuzz.trimf(setpoint.universe,[18,27,40])\n",
        "setpoint['High Tem']=fuzz.trapmf(setpoint.universe,[28,40,100,100])\n",
        "#setpoint.view()\n",
        "\n",
        "#Vale Level\n",
        "val_sensor['Very Low']=fuzz.trapmf(val_sensor.universe,[0,0,0,5])\n",
        "val_sensor['Low']=fuzz.trimf(val_sensor.universe,[5,16,25])\n",
        "val_sensor['Normal']=fuzz.trimf(val_sensor.universe,[16,32,40])\n",
        "val_sensor['High']=fuzz.trimf(val_sensor.universe,[40,60,70])\n",
        "val_sensor['Very High']=fuzz.trapmf(val_sensor.universe,[70,100,100,100])\n",
        "#val_sensor.view()\n",
        "\n",
        "#Speed Of Motor Level\n",
        "pwm['Very Low']=fuzz.trimf(pwm.universe,[0,70,70])\n",
        "pwm['Low']=fuzz.trimf(pwm.universe,[70,100,100])\n",
        "pwm['Normal']=fuzz.trimf(pwm.universe,[100,150,200])\n",
        "pwm['Very High']=fuzz.trimf(pwm.universe,[150,200,255])\n",
        "pwm['High']=fuzz.trimf(pwm.universe,[200,255,255])"
      ],
      "metadata": {
        "id": "fbT3Q4sUR5KH"
      },
      "execution_count": 38,
      "outputs": []
    },
    {
      "cell_type": "code",
      "source": [
        "# Set Rule for Machine\n",
        "rule_1=ctal.Rule(setpoint['Low Tem']&val_sensor['Very Low'],pwm['Very Low'])\n",
        "rule_2=ctal.Rule(setpoint['Low Tem']&val_sensor['Low'],pwm['Low'])\n",
        "rule_3=ctal.Rule(setpoint['Low Tem']&val_sensor['Normal'],pwm['Normal'])\n",
        "rule_4=ctal.Rule(setpoint['Low Tem']&val_sensor['High'],pwm['Very High'])\n",
        "rule_5=ctal.Rule(setpoint['Low Tem']&val_sensor['Very High'],pwm['Very High'])\n",
        "\n",
        "rule_6=ctal.Rule(setpoint['Normal Tem']&val_sensor['Very Low'],pwm['Very Low'])\n",
        "rule_7=ctal.Rule(setpoint['Normal Tem']&val_sensor['Low'],pwm['Very Low'])\n",
        "rule_8=ctal.Rule(setpoint['Normal Tem']&val_sensor['Normal'],pwm['Normal'])\n",
        "rule_9=ctal.Rule(setpoint['Normal Tem']&val_sensor['High'],pwm['High'])\n",
        "rule_10=ctal.Rule(setpoint['Normal Tem']&val_sensor['Very High'],pwm['High'])\n",
        "\n",
        "rule_11=ctal.Rule(setpoint['High Tem']&val_sensor['Very Low'],pwm['Very Low'])\n",
        "rule_12=ctal.Rule(setpoint['High Tem']&val_sensor['Low'],pwm['Very Low'])\n",
        "rule_13=ctal.Rule(setpoint['High Tem']&val_sensor['Normal'],pwm['Low'])\n",
        "rule_14=ctal.Rule(setpoint['High Tem']&val_sensor['High'],pwm['Normal'])\n",
        "rule_15=ctal.Rule(setpoint['High Tem']&val_sensor['Very High'],pwm['Normal'])\n",
        "\n",
        "pwm_control=ctal.ControlSystem([rule_1,rule_2,rule_3,rule_4,rule_5,\n",
        "                                rule_6,rule_7,rule_8,rule_9,rule_10,\n",
        "                                rule_11,rule_12,rule_13,rule_14,rule_15])\n",
        "pwm_value=ctal.ControlSystemSimulation(pwm_control)"
      ],
      "metadata": {
        "id": "unX4iSzlXKby"
      },
      "execution_count": 40,
      "outputs": []
    },
    {
      "cell_type": "code",
      "source": [
        "#INPUT VALUE\n",
        "pwm_value.input['Set Point']= 30\n",
        "pwm_value.input['Valve Sensor']= 60\n",
        "#COMPUTING\n",
        "pwm_value.compute()\n",
        "#SHOW RESULT\n",
        "print('PWM Vaule:',pwm_value.output['PWM'])\n",
        "pwm.view(sim=pwm_value)"
      ],
      "metadata": {
        "colab": {
          "base_uri": "https://localhost:8080/",
          "height": 298
        },
        "id": "xxh3k7qJR5xf",
        "outputId": "177f07ef-f8ed-4b70-bf61-a26c0892fc00"
      },
      "execution_count": 41,
      "outputs": [
        {
          "output_type": "stream",
          "name": "stdout",
          "text": [
            "PWM Vaule: 204.11715199461392\n"
          ]
        },
        {
          "output_type": "display_data",
          "data": {
            "text/plain": [
              "<Figure size 432x288 with 1 Axes>"
            ],
            "image/png": "[encoded data removed]"
          },
          "metadata": {
            "needs_background": "light"
          }
        }
      ]
    },
    {
      "cell_type": "code",
      "source": [],
      "metadata": {
        "id": "j-uVrI39bgKN"
      },
      "execution_count": null,
      "outputs": []
    }
  ]
}